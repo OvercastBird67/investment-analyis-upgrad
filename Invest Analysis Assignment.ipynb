{
 "cells": [
  {
   "cell_type": "markdown",
   "id": "f5281726",
   "metadata": {},
   "source": [
    "# Investment Analysis Assignment"
   ]
  },
  {
   "cell_type": "markdown",
   "id": "35e3384a",
   "metadata": {},
   "source": [
    "#### Importing all the necessary libraries"
   ]
  },
  {
   "cell_type": "code",
   "execution_count": 1,
   "id": "b7736adc",
   "metadata": {},
   "outputs": [],
   "source": [
    "import pandas as pd\n",
    "import numpy as np\n",
    "import matplotlib.pyplot as plt\n",
    "%matplotlib inline\n",
    "import seaborn as sns\n",
    "import warnings\n",
    "warnings.filterwarnings('ignore')"
   ]
  },
  {
   "cell_type": "markdown",
   "id": "b1b52459",
   "metadata": {},
   "source": [
    "## Checkpoint 1: Data Cleaning 1"
   ]
  },
  {
   "cell_type": "markdown",
   "id": "4f39cd7e",
   "metadata": {},
   "source": [
    "- Loading companies and rounds2 data in two dataframes namely:\n",
    "    - `companies` for companies.csv\n",
    "    - `rounds2` for rounds2.csv\n",
    "- Using encoding as `ANSI` as loading data without specyfying encoding causes `UnicodeDecodeError`"
   ]
  },
  {
   "cell_type": "code",
   "execution_count": 2,
   "id": "d9b9cc39",
   "metadata": {},
   "outputs": [],
   "source": [
    "# In case of a 'LookupError', run the code commented below\n",
    "# pip install ANSI\n",
    "\n",
    "# Loading the 'companies.csv' data into companies dataframe\n",
    "companies = pd.read_csv('companies.csv', encoding='ANSI')\n",
    "\n",
    "# Loading the 'rounds2.csv' data into rounds2 dataframe\n",
    "rounds2 = pd.read_csv('rounds2.csv', encoding='ANSI')"
   ]
  },
  {
   "cell_type": "markdown",
   "id": "29bb7bc3",
   "metadata": {},
   "source": [
    "#### Exploring the data and dimensions of the two dataframe"
   ]
  },
  {
   "cell_type": "code",
   "execution_count": 3,
   "id": "6575d83e",
   "metadata": {},
   "outputs": [
    {
     "name": "stdout",
     "output_type": "stream",
     "text": [
      "companies: (66368, 10)\n",
      "rounds2: (114949, 6)\n"
     ]
    }
   ],
   "source": [
    "# Shape of companies and rounds2 dataframe\n",
    "print(f\"companies: {companies.shape}\\nrounds2: {rounds2.shape}\")"
   ]
  },
  {
   "cell_type": "code",
   "execution_count": 4,
   "id": "079a98b8",
   "metadata": {},
   "outputs": [
    {
     "name": "stdout",
     "output_type": "stream",
     "text": [
      "<class 'pandas.core.frame.DataFrame'>\n",
      "RangeIndex: 66368 entries, 0 to 66367\n",
      "Data columns (total 10 columns):\n",
      " #   Column         Non-Null Count  Dtype \n",
      "---  ------         --------------  ----- \n",
      " 0   permalink      66368 non-null  object\n",
      " 1   name           66367 non-null  object\n",
      " 2   homepage_url   61310 non-null  object\n",
      " 3   category_list  63220 non-null  object\n",
      " 4   status         66368 non-null  object\n",
      " 5   country_code   59410 non-null  object\n",
      " 6   state_code     57821 non-null  object\n",
      " 7   region         58338 non-null  object\n",
      " 8   city           58340 non-null  object\n",
      " 9   founded_at     51147 non-null  object\n",
      "dtypes: object(10)\n",
      "memory usage: 5.1+ MB\n"
     ]
    }
   ],
   "source": [
    "# Running .info() on companies dataframe\n",
    "companies.info()"
   ]
  },
  {
   "cell_type": "code",
   "execution_count": 5,
   "id": "e08e337d",
   "metadata": {},
   "outputs": [
    {
     "name": "stdout",
     "output_type": "stream",
     "text": [
      "<class 'pandas.core.frame.DataFrame'>\n",
      "RangeIndex: 114949 entries, 0 to 114948\n",
      "Data columns (total 6 columns):\n",
      " #   Column                   Non-Null Count   Dtype  \n",
      "---  ------                   --------------   -----  \n",
      " 0   company_permalink        114949 non-null  object \n",
      " 1   funding_round_permalink  114949 non-null  object \n",
      " 2   funding_round_type       114949 non-null  object \n",
      " 3   funding_round_code       31140 non-null   object \n",
      " 4   funded_at                114949 non-null  object \n",
      " 5   raised_amount_usd        94959 non-null   float64\n",
      "dtypes: float64(1), object(5)\n",
      "memory usage: 5.3+ MB\n"
     ]
    }
   ],
   "source": [
    "# Running .info() on rounds2 dataframe\n",
    "rounds2.info()"
   ]
  },
  {
   "cell_type": "code",
   "execution_count": 6,
   "id": "af975326",
   "metadata": {},
   "outputs": [
    {
     "data": {
      "text/html": [
       "<div>\n",
       "<style scoped>\n",
       "    .dataframe tbody tr th:only-of-type {\n",
       "        vertical-align: middle;\n",
       "    }\n",
       "\n",
       "    .dataframe tbody tr th {\n",
       "        vertical-align: top;\n",
       "    }\n",
       "\n",
       "    .dataframe thead th {\n",
       "        text-align: right;\n",
       "    }\n",
       "</style>\n",
       "<table border=\"1\" class=\"dataframe\">\n",
       "  <thead>\n",
       "    <tr style=\"text-align: right;\">\n",
       "      <th></th>\n",
       "      <th>permalink</th>\n",
       "      <th>name</th>\n",
       "      <th>homepage_url</th>\n",
       "      <th>category_list</th>\n",
       "      <th>status</th>\n",
       "      <th>country_code</th>\n",
       "      <th>state_code</th>\n",
       "      <th>region</th>\n",
       "      <th>city</th>\n",
       "      <th>founded_at</th>\n",
       "    </tr>\n",
       "  </thead>\n",
       "  <tbody>\n",
       "    <tr>\n",
       "      <th>0</th>\n",
       "      <td>/Organization/-Fame</td>\n",
       "      <td>#fame</td>\n",
       "      <td>http://livfame.com</td>\n",
       "      <td>Media</td>\n",
       "      <td>operating</td>\n",
       "      <td>IND</td>\n",
       "      <td>16</td>\n",
       "      <td>Mumbai</td>\n",
       "      <td>Mumbai</td>\n",
       "      <td>NaN</td>\n",
       "    </tr>\n",
       "    <tr>\n",
       "      <th>1</th>\n",
       "      <td>/Organization/-Qounter</td>\n",
       "      <td>:Qounter</td>\n",
       "      <td>http://www.qounter.com</td>\n",
       "      <td>Application Platforms|Real Time|Social Network...</td>\n",
       "      <td>operating</td>\n",
       "      <td>USA</td>\n",
       "      <td>DE</td>\n",
       "      <td>DE - Other</td>\n",
       "      <td>Delaware City</td>\n",
       "      <td>04-09-2014</td>\n",
       "    </tr>\n",
       "    <tr>\n",
       "      <th>2</th>\n",
       "      <td>/Organization/-The-One-Of-Them-Inc-</td>\n",
       "      <td>(THE) ONE of THEM,Inc.</td>\n",
       "      <td>http://oneofthem.jp</td>\n",
       "      <td>Apps|Games|Mobile</td>\n",
       "      <td>operating</td>\n",
       "      <td>NaN</td>\n",
       "      <td>NaN</td>\n",
       "      <td>NaN</td>\n",
       "      <td>NaN</td>\n",
       "      <td>NaN</td>\n",
       "    </tr>\n",
       "    <tr>\n",
       "      <th>3</th>\n",
       "      <td>/Organization/0-6-Com</td>\n",
       "      <td>0-6.com</td>\n",
       "      <td>http://www.0-6.com</td>\n",
       "      <td>Curated Web</td>\n",
       "      <td>operating</td>\n",
       "      <td>CHN</td>\n",
       "      <td>22</td>\n",
       "      <td>Beijing</td>\n",
       "      <td>Beijing</td>\n",
       "      <td>01-01-2007</td>\n",
       "    </tr>\n",
       "    <tr>\n",
       "      <th>4</th>\n",
       "      <td>/Organization/004-Technologies</td>\n",
       "      <td>004 Technologies</td>\n",
       "      <td>http://004gmbh.de/en/004-interact</td>\n",
       "      <td>Software</td>\n",
       "      <td>operating</td>\n",
       "      <td>USA</td>\n",
       "      <td>IL</td>\n",
       "      <td>Springfield, Illinois</td>\n",
       "      <td>Champaign</td>\n",
       "      <td>01-01-2010</td>\n",
       "    </tr>\n",
       "  </tbody>\n",
       "</table>\n",
       "</div>"
      ],
      "text/plain": [
       "                             permalink                    name  \\\n",
       "0                  /Organization/-Fame                   #fame   \n",
       "1               /Organization/-Qounter                :Qounter   \n",
       "2  /Organization/-The-One-Of-Them-Inc-  (THE) ONE of THEM,Inc.   \n",
       "3                /Organization/0-6-Com                 0-6.com   \n",
       "4       /Organization/004-Technologies        004 Technologies   \n",
       "\n",
       "                        homepage_url  \\\n",
       "0                 http://livfame.com   \n",
       "1             http://www.qounter.com   \n",
       "2                http://oneofthem.jp   \n",
       "3                 http://www.0-6.com   \n",
       "4  http://004gmbh.de/en/004-interact   \n",
       "\n",
       "                                       category_list     status country_code  \\\n",
       "0                                              Media  operating          IND   \n",
       "1  Application Platforms|Real Time|Social Network...  operating          USA   \n",
       "2                                  Apps|Games|Mobile  operating          NaN   \n",
       "3                                        Curated Web  operating          CHN   \n",
       "4                                           Software  operating          USA   \n",
       "\n",
       "  state_code                 region           city  founded_at  \n",
       "0         16                 Mumbai         Mumbai         NaN  \n",
       "1         DE             DE - Other  Delaware City  04-09-2014  \n",
       "2        NaN                    NaN            NaN         NaN  \n",
       "3         22                Beijing        Beijing  01-01-2007  \n",
       "4         IL  Springfield, Illinois      Champaign  01-01-2010  "
      ]
     },
     "execution_count": 6,
     "metadata": {},
     "output_type": "execute_result"
    }
   ],
   "source": [
    "# Top 5 records from the companies dataframe\n",
    "companies.head()"
   ]
  },
  {
   "cell_type": "code",
   "execution_count": 7,
   "id": "dc222a32",
   "metadata": {},
   "outputs": [
    {
     "data": {
      "text/html": [
       "<div>\n",
       "<style scoped>\n",
       "    .dataframe tbody tr th:only-of-type {\n",
       "        vertical-align: middle;\n",
       "    }\n",
       "\n",
       "    .dataframe tbody tr th {\n",
       "        vertical-align: top;\n",
       "    }\n",
       "\n",
       "    .dataframe thead th {\n",
       "        text-align: right;\n",
       "    }\n",
       "</style>\n",
       "<table border=\"1\" class=\"dataframe\">\n",
       "  <thead>\n",
       "    <tr style=\"text-align: right;\">\n",
       "      <th></th>\n",
       "      <th>company_permalink</th>\n",
       "      <th>funding_round_permalink</th>\n",
       "      <th>funding_round_type</th>\n",
       "      <th>funding_round_code</th>\n",
       "      <th>funded_at</th>\n",
       "      <th>raised_amount_usd</th>\n",
       "    </tr>\n",
       "  </thead>\n",
       "  <tbody>\n",
       "    <tr>\n",
       "      <th>0</th>\n",
       "      <td>/organization/-fame</td>\n",
       "      <td>/funding-round/9a01d05418af9f794eebff7ace91f638</td>\n",
       "      <td>venture</td>\n",
       "      <td>B</td>\n",
       "      <td>05-01-2015</td>\n",
       "      <td>10000000.0</td>\n",
       "    </tr>\n",
       "    <tr>\n",
       "      <th>1</th>\n",
       "      <td>/ORGANIZATION/-QOUNTER</td>\n",
       "      <td>/funding-round/22dacff496eb7acb2b901dec1dfe5633</td>\n",
       "      <td>venture</td>\n",
       "      <td>A</td>\n",
       "      <td>14-10-2014</td>\n",
       "      <td>NaN</td>\n",
       "    </tr>\n",
       "    <tr>\n",
       "      <th>2</th>\n",
       "      <td>/organization/-qounter</td>\n",
       "      <td>/funding-round/b44fbb94153f6cdef13083530bb48030</td>\n",
       "      <td>seed</td>\n",
       "      <td>NaN</td>\n",
       "      <td>01-03-2014</td>\n",
       "      <td>700000.0</td>\n",
       "    </tr>\n",
       "    <tr>\n",
       "      <th>3</th>\n",
       "      <td>/ORGANIZATION/-THE-ONE-OF-THEM-INC-</td>\n",
       "      <td>/funding-round/650b8f704416801069bb178a1418776b</td>\n",
       "      <td>venture</td>\n",
       "      <td>B</td>\n",
       "      <td>30-01-2014</td>\n",
       "      <td>3406878.0</td>\n",
       "    </tr>\n",
       "    <tr>\n",
       "      <th>4</th>\n",
       "      <td>/organization/0-6-com</td>\n",
       "      <td>/funding-round/5727accaeaa57461bd22a9bdd945382d</td>\n",
       "      <td>venture</td>\n",
       "      <td>A</td>\n",
       "      <td>19-03-2008</td>\n",
       "      <td>2000000.0</td>\n",
       "    </tr>\n",
       "  </tbody>\n",
       "</table>\n",
       "</div>"
      ],
      "text/plain": [
       "                     company_permalink  \\\n",
       "0                  /organization/-fame   \n",
       "1               /ORGANIZATION/-QOUNTER   \n",
       "2               /organization/-qounter   \n",
       "3  /ORGANIZATION/-THE-ONE-OF-THEM-INC-   \n",
       "4                /organization/0-6-com   \n",
       "\n",
       "                           funding_round_permalink funding_round_type  \\\n",
       "0  /funding-round/9a01d05418af9f794eebff7ace91f638            venture   \n",
       "1  /funding-round/22dacff496eb7acb2b901dec1dfe5633            venture   \n",
       "2  /funding-round/b44fbb94153f6cdef13083530bb48030               seed   \n",
       "3  /funding-round/650b8f704416801069bb178a1418776b            venture   \n",
       "4  /funding-round/5727accaeaa57461bd22a9bdd945382d            venture   \n",
       "\n",
       "  funding_round_code   funded_at  raised_amount_usd  \n",
       "0                  B  05-01-2015         10000000.0  \n",
       "1                  A  14-10-2014                NaN  \n",
       "2                NaN  01-03-2014           700000.0  \n",
       "3                  B  30-01-2014          3406878.0  \n",
       "4                  A  19-03-2008          2000000.0  "
      ]
     },
     "execution_count": 7,
     "metadata": {},
     "output_type": "execute_result"
    }
   ],
   "source": [
    "# Top 5 records from the rounds2 dataframe\n",
    "rounds2.head()"
   ]
  },
  {
   "cell_type": "markdown",
   "id": "bf4318bf",
   "metadata": {},
   "source": [
    "#### From the above output, we can see that there are records with the smae name but different case\n",
    "<p>The image below highlights one such record</p>"
   ]
  },
  {
   "attachments": {
    "case_issue_in_round2_data.png": {
     "image/png": "[encoded data removed]"
    }
   },
   "cell_type": "markdown",
   "id": "085acbf1",
   "metadata": {},
   "source": [
    "![case_issue_in_round2_data.png](attachment:case_issue_in_round2_data.png)"
   ]
  },
  {
   "cell_type": "markdown",
   "id": "d9b2d5f4",
   "metadata": {},
   "source": [
    "Applying `str.casefold()` to `company_permalink` to ensure all records in company_permalink have the same case"
   ]
  },
  {
   "cell_type": "code",
   "execution_count": 8,
   "id": "a09f85ad",
   "metadata": {},
   "outputs": [
    {
     "data": {
      "text/html": [
       "<div>\n",
       "<style scoped>\n",
       "    .dataframe tbody tr th:only-of-type {\n",
       "        vertical-align: middle;\n",
       "    }\n",
       "\n",
       "    .dataframe tbody tr th {\n",
       "        vertical-align: top;\n",
       "    }\n",
       "\n",
       "    .dataframe thead th {\n",
       "        text-align: right;\n",
       "    }\n",
       "</style>\n",
       "<table border=\"1\" class=\"dataframe\">\n",
       "  <thead>\n",
       "    <tr style=\"text-align: right;\">\n",
       "      <th></th>\n",
       "      <th>company_permalink</th>\n",
       "      <th>funding_round_permalink</th>\n",
       "      <th>funding_round_type</th>\n",
       "      <th>funding_round_code</th>\n",
       "      <th>funded_at</th>\n",
       "      <th>raised_amount_usd</th>\n",
       "    </tr>\n",
       "  </thead>\n",
       "  <tbody>\n",
       "    <tr>\n",
       "      <th>0</th>\n",
       "      <td>/organization/-fame</td>\n",
       "      <td>/funding-round/9a01d05418af9f794eebff7ace91f638</td>\n",
       "      <td>venture</td>\n",
       "      <td>B</td>\n",
       "      <td>05-01-2015</td>\n",
       "      <td>10000000.0</td>\n",
       "    </tr>\n",
       "    <tr>\n",
       "      <th>1</th>\n",
       "      <td>/organization/-qounter</td>\n",
       "      <td>/funding-round/22dacff496eb7acb2b901dec1dfe5633</td>\n",
       "      <td>venture</td>\n",
       "      <td>A</td>\n",
       "      <td>14-10-2014</td>\n",
       "      <td>NaN</td>\n",
       "    </tr>\n",
       "    <tr>\n",
       "      <th>2</th>\n",
       "      <td>/organization/-qounter</td>\n",
       "      <td>/funding-round/b44fbb94153f6cdef13083530bb48030</td>\n",
       "      <td>seed</td>\n",
       "      <td>NaN</td>\n",
       "      <td>01-03-2014</td>\n",
       "      <td>700000.0</td>\n",
       "    </tr>\n",
       "    <tr>\n",
       "      <th>3</th>\n",
       "      <td>/organization/-the-one-of-them-inc-</td>\n",
       "      <td>/funding-round/650b8f704416801069bb178a1418776b</td>\n",
       "      <td>venture</td>\n",
       "      <td>B</td>\n",
       "      <td>30-01-2014</td>\n",
       "      <td>3406878.0</td>\n",
       "    </tr>\n",
       "    <tr>\n",
       "      <th>4</th>\n",
       "      <td>/organization/0-6-com</td>\n",
       "      <td>/funding-round/5727accaeaa57461bd22a9bdd945382d</td>\n",
       "      <td>venture</td>\n",
       "      <td>A</td>\n",
       "      <td>19-03-2008</td>\n",
       "      <td>2000000.0</td>\n",
       "    </tr>\n",
       "  </tbody>\n",
       "</table>\n",
       "</div>"
      ],
      "text/plain": [
       "                     company_permalink  \\\n",
       "0                  /organization/-fame   \n",
       "1               /organization/-qounter   \n",
       "2               /organization/-qounter   \n",
       "3  /organization/-the-one-of-them-inc-   \n",
       "4                /organization/0-6-com   \n",
       "\n",
       "                           funding_round_permalink funding_round_type  \\\n",
       "0  /funding-round/9a01d05418af9f794eebff7ace91f638            venture   \n",
       "1  /funding-round/22dacff496eb7acb2b901dec1dfe5633            venture   \n",
       "2  /funding-round/b44fbb94153f6cdef13083530bb48030               seed   \n",
       "3  /funding-round/650b8f704416801069bb178a1418776b            venture   \n",
       "4  /funding-round/5727accaeaa57461bd22a9bdd945382d            venture   \n",
       "\n",
       "  funding_round_code   funded_at  raised_amount_usd  \n",
       "0                  B  05-01-2015         10000000.0  \n",
       "1                  A  14-10-2014                NaN  \n",
       "2                NaN  01-03-2014           700000.0  \n",
       "3                  B  30-01-2014          3406878.0  \n",
       "4                  A  19-03-2008          2000000.0  "
      ]
     },
     "execution_count": 8,
     "metadata": {},
     "output_type": "execute_result"
    }
   ],
   "source": [
    "rounds2['company_permalink'] = rounds2['company_permalink'].str.casefold()\n",
    "\n",
    "# Viewing the first 5 records from the rounds2 dataframe\n",
    "rounds2.head()"
   ]
  },
  {
   "cell_type": "markdown",
   "id": "b55fa574",
   "metadata": {},
   "source": [
    "### Identifying unique companies present in the companies dataframe"
   ]
  },
  {
   "cell_type": "code",
   "execution_count": 9,
   "id": "63a51bab",
   "metadata": {},
   "outputs": [
    {
     "name": "stdout",
     "output_type": "stream",
     "text": [
      "The are '66368' companies in companies dataframe.\n"
     ]
    }
   ],
   "source": [
    "unique_companies_in_companies = len(companies['permalink'].unique())\n",
    "\n",
    "print(f\"The are '{unique_companies_in_companies}' companies in companies dataframe.\")"
   ]
  },
  {
   "cell_type": "markdown",
   "id": "8ac39c14",
   "metadata": {},
   "source": [
    "### Identifying unique companies present in the rounds2 dataframe"
   ]
  },
  {
   "cell_type": "code",
   "execution_count": 10,
   "id": "a69f695f",
   "metadata": {},
   "outputs": [
    {
     "name": "stdout",
     "output_type": "stream",
     "text": [
      "The are '66368' companies in rounds2 dataframe.\n"
     ]
    }
   ],
   "source": [
    "unique_companies_in_rounds2 = len(rounds2['company_permalink'].unique())\n",
    "\n",
    "print(f\"The are '{unique_companies_in_rounds2}' companies in rounds2 dataframe.\")"
   ]
  },
  {
   "cell_type": "markdown",
   "id": "465c3462",
   "metadata": {},
   "source": [
    "### Checking if there are any companies present in rounds2 dataframe which are not present in companies dataframe"
   ]
  },
  {
   "cell_type": "markdown",
   "id": "14222d25",
   "metadata": {},
   "source": [
    "Applying `str.casefold()` on the records in the _permalink_ column, to ensure that rounds2's _company_permalink_ column and companies _permalink_ column have the same case"
   ]
  },
  {
   "cell_type": "code",
   "execution_count": 11,
   "id": "94cac915",
   "metadata": {},
   "outputs": [
    {
     "data": {
      "text/html": [
       "<div>\n",
       "<style scoped>\n",
       "    .dataframe tbody tr th:only-of-type {\n",
       "        vertical-align: middle;\n",
       "    }\n",
       "\n",
       "    .dataframe tbody tr th {\n",
       "        vertical-align: top;\n",
       "    }\n",
       "\n",
       "    .dataframe thead th {\n",
       "        text-align: right;\n",
       "    }\n",
       "</style>\n",
       "<table border=\"1\" class=\"dataframe\">\n",
       "  <thead>\n",
       "    <tr style=\"text-align: right;\">\n",
       "      <th></th>\n",
       "      <th>permalink</th>\n",
       "      <th>name</th>\n",
       "      <th>homepage_url</th>\n",
       "      <th>category_list</th>\n",
       "      <th>status</th>\n",
       "      <th>country_code</th>\n",
       "      <th>state_code</th>\n",
       "      <th>region</th>\n",
       "      <th>city</th>\n",
       "      <th>founded_at</th>\n",
       "    </tr>\n",
       "  </thead>\n",
       "  <tbody>\n",
       "    <tr>\n",
       "      <th>0</th>\n",
       "      <td>/organization/-fame</td>\n",
       "      <td>#fame</td>\n",
       "      <td>http://livfame.com</td>\n",
       "      <td>Media</td>\n",
       "      <td>operating</td>\n",
       "      <td>IND</td>\n",
       "      <td>16</td>\n",
       "      <td>Mumbai</td>\n",
       "      <td>Mumbai</td>\n",
       "      <td>NaN</td>\n",
       "    </tr>\n",
       "    <tr>\n",
       "      <th>1</th>\n",
       "      <td>/organization/-qounter</td>\n",
       "      <td>:Qounter</td>\n",
       "      <td>http://www.qounter.com</td>\n",
       "      <td>Application Platforms|Real Time|Social Network...</td>\n",
       "      <td>operating</td>\n",
       "      <td>USA</td>\n",
       "      <td>DE</td>\n",
       "      <td>DE - Other</td>\n",
       "      <td>Delaware City</td>\n",
       "      <td>04-09-2014</td>\n",
       "    </tr>\n",
       "    <tr>\n",
       "      <th>2</th>\n",
       "      <td>/organization/-the-one-of-them-inc-</td>\n",
       "      <td>(THE) ONE of THEM,Inc.</td>\n",
       "      <td>http://oneofthem.jp</td>\n",
       "      <td>Apps|Games|Mobile</td>\n",
       "      <td>operating</td>\n",
       "      <td>NaN</td>\n",
       "      <td>NaN</td>\n",
       "      <td>NaN</td>\n",
       "      <td>NaN</td>\n",
       "      <td>NaN</td>\n",
       "    </tr>\n",
       "    <tr>\n",
       "      <th>3</th>\n",
       "      <td>/organization/0-6-com</td>\n",
       "      <td>0-6.com</td>\n",
       "      <td>http://www.0-6.com</td>\n",
       "      <td>Curated Web</td>\n",
       "      <td>operating</td>\n",
       "      <td>CHN</td>\n",
       "      <td>22</td>\n",
       "      <td>Beijing</td>\n",
       "      <td>Beijing</td>\n",
       "      <td>01-01-2007</td>\n",
       "    </tr>\n",
       "    <tr>\n",
       "      <th>4</th>\n",
       "      <td>/organization/004-technologies</td>\n",
       "      <td>004 Technologies</td>\n",
       "      <td>http://004gmbh.de/en/004-interact</td>\n",
       "      <td>Software</td>\n",
       "      <td>operating</td>\n",
       "      <td>USA</td>\n",
       "      <td>IL</td>\n",
       "      <td>Springfield, Illinois</td>\n",
       "      <td>Champaign</td>\n",
       "      <td>01-01-2010</td>\n",
       "    </tr>\n",
       "  </tbody>\n",
       "</table>\n",
       "</div>"
      ],
      "text/plain": [
       "                             permalink                    name  \\\n",
       "0                  /organization/-fame                   #fame   \n",
       "1               /organization/-qounter                :Qounter   \n",
       "2  /organization/-the-one-of-them-inc-  (THE) ONE of THEM,Inc.   \n",
       "3                /organization/0-6-com                 0-6.com   \n",
       "4       /organization/004-technologies        004 Technologies   \n",
       "\n",
       "                        homepage_url  \\\n",
       "0                 http://livfame.com   \n",
       "1             http://www.qounter.com   \n",
       "2                http://oneofthem.jp   \n",
       "3                 http://www.0-6.com   \n",
       "4  http://004gmbh.de/en/004-interact   \n",
       "\n",
       "                                       category_list     status country_code  \\\n",
       "0                                              Media  operating          IND   \n",
       "1  Application Platforms|Real Time|Social Network...  operating          USA   \n",
       "2                                  Apps|Games|Mobile  operating          NaN   \n",
       "3                                        Curated Web  operating          CHN   \n",
       "4                                           Software  operating          USA   \n",
       "\n",
       "  state_code                 region           city  founded_at  \n",
       "0         16                 Mumbai         Mumbai         NaN  \n",
       "1         DE             DE - Other  Delaware City  04-09-2014  \n",
       "2        NaN                    NaN            NaN         NaN  \n",
       "3         22                Beijing        Beijing  01-01-2007  \n",
       "4         IL  Springfield, Illinois      Champaign  01-01-2010  "
      ]
     },
     "execution_count": 11,
     "metadata": {},
     "output_type": "execute_result"
    }
   ],
   "source": [
    "companies['permalink'] = companies['permalink'].str.casefold()\n",
    "\n",
    "# Viewing the first 5 records from the companies dataframe\n",
    "companies.head()"
   ]
  },
  {
   "cell_type": "markdown",
   "id": "af34e5aa",
   "metadata": {},
   "source": [
    "- Using `.isin()` function to bet companies in _rounds2_ which are present in _companies_ dataframe\n",
    "    - Using `~` on the above output to get companies in _rounds2_ which are not present in _companies_ dataframe\n",
    "- Using .count() to get a numerical value for the dataframe obtained above"
   ]
  },
  {
   "cell_type": "code",
   "execution_count": 12,
   "id": "033ec7df",
   "metadata": {},
   "outputs": [
    {
     "name": "stdout",
     "output_type": "stream",
     "text": [
      "There are '0' companies present in rounds2 which are not present in the companies dataframe\n"
     ]
    }
   ],
   "source": [
    "companies_in_rounds2_nin_companies = rounds2[~rounds2['company_permalink'].isin(companies['permalink'])]['company_permalink'].count()\n",
    "print(f\"There are '{companies_in_rounds2_nin_companies}' companies present in rounds2 which are not present in the companies dataframe\")"
   ]
  },
  {
   "cell_type": "markdown",
   "id": "f4e1c15d",
   "metadata": {},
   "source": [
    "### Merging the two dataframes into a master frame"
   ]
  },
  {
   "cell_type": "markdown",
   "id": "922a40fb",
   "metadata": {},
   "source": [
    "#### Merging the two dataframe such that all columns in the companies dataframe are added to the rounds2 dataframe"
   ]
  },
  {
   "cell_type": "markdown",
   "id": "a831cb6d",
   "metadata": {},
   "source": [
    "As the `permalink` column in the companies dataframe has zero null and all unique values, we can treat the `permalink` column as the unique key.\n",
    "<br><br>\n",
    "As all the values from from companies['permalink'] are present in rounds2['company_permalink'] and `company_permalink` has the same number of unique values as the `permalink` column, the dataframe can be merged with the help of these two columns"
   ]
  },
  {
   "cell_type": "code",
   "execution_count": 13,
   "id": "0e741cb6",
   "metadata": {},
   "outputs": [
    {
     "name": "stdout",
     "output_type": "stream",
     "text": [
      "<class 'pandas.core.frame.DataFrame'>\n",
      "RangeIndex: 114949 entries, 0 to 114948\n",
      "Data columns (total 6 columns):\n",
      " #   Column                   Non-Null Count   Dtype  \n",
      "---  ------                   --------------   -----  \n",
      " 0   permalink                114949 non-null  object \n",
      " 1   funding_round_permalink  114949 non-null  object \n",
      " 2   funding_round_type       114949 non-null  object \n",
      " 3   funding_round_code       31140 non-null   object \n",
      " 4   funded_at                114949 non-null  object \n",
      " 5   raised_amount_usd        94959 non-null   float64\n",
      "dtypes: float64(1), object(5)\n",
      "memory usage: 5.3+ MB\n"
     ]
    }
   ],
   "source": [
    "# Renaming rounds2 company_permalink as permalink to avoid adding a redundant column in the master_frame\n",
    "rounds2.rename (columns={'company_permalink': 'permalink'}, inplace=True)\n",
    "\n",
    "# Running .info on the rounds2 dataframe\n",
    "rounds2.info()"
   ]
  },
  {
   "cell_type": "code",
   "execution_count": 14,
   "id": "f867a63e",
   "metadata": {},
   "outputs": [
    {
     "name": "stdout",
     "output_type": "stream",
     "text": [
      "<class 'pandas.core.frame.DataFrame'>\n",
      "Int64Index: 114949 entries, 0 to 114948\n",
      "Data columns (total 15 columns):\n",
      " #   Column                   Non-Null Count   Dtype  \n",
      "---  ------                   --------------   -----  \n",
      " 0   permalink                114949 non-null  object \n",
      " 1   name                     114948 non-null  object \n",
      " 2   homepage_url             108815 non-null  object \n",
      " 3   category_list            111539 non-null  object \n",
      " 4   status                   114949 non-null  object \n",
      " 5   country_code             106271 non-null  object \n",
      " 6   state_code               104003 non-null  object \n",
      " 7   region                   104782 non-null  object \n",
      " 8   city                     104785 non-null  object \n",
      " 9   founded_at               94428 non-null   object \n",
      " 10  funding_round_permalink  114949 non-null  object \n",
      " 11  funding_round_type       114949 non-null  object \n",
      " 12  funding_round_code       31140 non-null   object \n",
      " 13  funded_at                114949 non-null  object \n",
      " 14  raised_amount_usd        94959 non-null   float64\n",
      "dtypes: float64(1), object(14)\n",
      "memory usage: 14.0+ MB\n"
     ]
    }
   ],
   "source": [
    "# Merging the two dataframes\n",
    "master_frame = pd.merge(companies, rounds2, how='inner', on='permalink')\n",
    "\n",
    "# Running .info() on the master_frame\n",
    "master_frame.info()"
   ]
  },
  {
   "cell_type": "markdown",
   "id": "eca25abd",
   "metadata": {},
   "source": [
    "#### Checking the number of observations present in master_frame"
   ]
  },
  {
   "cell_type": "code",
   "execution_count": 15,
   "id": "1cc2a59e",
   "metadata": {},
   "outputs": [
    {
     "name": "stdout",
     "output_type": "stream",
     "text": [
      "The number of observations present in master_frame are '114949'\n"
     ]
    }
   ],
   "source": [
    "total_observations = master_frame.shape[0]\n",
    "print(f\"The number of observations present in master_frame are '{total_observations}'\")"
   ]
  },
  {
   "cell_type": "markdown",
   "id": "63076766",
   "metadata": {},
   "source": [
    "### Cleaning the master_frame"
   ]
  },
  {
   "cell_type": "code",
   "execution_count": 16,
   "id": "b10c6531",
   "metadata": {},
   "outputs": [
    {
     "data": {
      "text/plain": [
       "permalink                   0.00\n",
       "name                        0.00\n",
       "homepage_url                5.34\n",
       "category_list               2.97\n",
       "status                      0.00\n",
       "country_code                7.55\n",
       "state_code                  9.52\n",
       "region                      8.84\n",
       "city                        8.84\n",
       "founded_at                 17.85\n",
       "funding_round_permalink     0.00\n",
       "funding_round_type          0.00\n",
       "funding_round_code         72.91\n",
       "funded_at                   0.00\n",
       "raised_amount_usd          17.39\n",
       "dtype: float64"
      ]
     },
     "execution_count": 16,
     "metadata": {},
     "output_type": "execute_result"
    }
   ],
   "source": [
    "# Checking the percentage of null values present in all the columns of the master_frame\n",
    "round(100 * (master_frame.isnull().sum() / len(master_frame.index)), 2)"
   ]
  },
  {
   "cell_type": "markdown",
   "id": "4aa85814",
   "metadata": {},
   "source": [
    "- Columns necessary for our analysis are:\n",
    "    1. ___permalink___\n",
    "    2. ___category_list___\n",
    "    3. ___country_code___\n",
    "    4. ___funding_round_type___\n",
    "    5. ___raised_amount_usd___\n",
    "- The rest of the columns can be dropped as they serve no purpose in our analysis"
   ]
  },
  {
   "cell_type": "code",
   "execution_count": 17,
   "id": "13ae9279",
   "metadata": {},
   "outputs": [
    {
     "name": "stdout",
     "output_type": "stream",
     "text": [
      "Necessary Columns: ['permalink', 'category_list', 'country_code', 'funding_round_type', 'raised_amount_usd']\n",
      "\n",
      "Unnecessary Columns: ['city', 'founded_at', 'funded_at', 'funding_round_code', 'funding_round_permalink', 'homepage_url', 'name', 'region', 'state_code', 'status']\n"
     ]
    }
   ],
   "source": [
    "necessary_columns = ['permalink', 'category_list', 'country_code', \n",
    "                     'funding_round_type', 'raised_amount_usd']\n",
    "print(f\"Necessary Columns: {necessary_columns}\")\n",
    "\n",
    "unnecessary_columns = list(np.setdiff1d(master_frame.columns, necessary_columns))\n",
    "print(f\"\\nUnnecessary Columns: {unnecessary_columns}\")"
   ]
  },
  {
   "cell_type": "code",
   "execution_count": 18,
   "id": "cf3f2726",
   "metadata": {},
   "outputs": [
    {
     "name": "stdout",
     "output_type": "stream",
     "text": [
      "<class 'pandas.core.frame.DataFrame'>\n",
      "Int64Index: 114949 entries, 0 to 114948\n",
      "Data columns (total 5 columns):\n",
      " #   Column              Non-Null Count   Dtype  \n",
      "---  ------              --------------   -----  \n",
      " 0   permalink           114949 non-null  object \n",
      " 1   category_list       111539 non-null  object \n",
      " 2   country_code        106271 non-null  object \n",
      " 3   funding_round_type  114949 non-null  object \n",
      " 4   raised_amount_usd   94959 non-null   float64\n",
      "dtypes: float64(1), object(4)\n",
      "memory usage: 5.3+ MB\n"
     ]
    }
   ],
   "source": [
    "# Dropping the unnecessary columns\n",
    "master_frame = master_frame.drop(unnecessary_columns, axis=1)\n",
    "\n",
    "# Running .info() on the master_frame\n",
    "master_frame.info()"
   ]
  },
  {
   "cell_type": "code",
   "execution_count": 19,
   "id": "0d5ee98e",
   "metadata": {},
   "outputs": [
    {
     "data": {
      "text/plain": [
       "permalink              0.00\n",
       "category_list          2.97\n",
       "country_code           7.55\n",
       "funding_round_type     0.00\n",
       "raised_amount_usd     17.39\n",
       "dtype: float64"
      ]
     },
     "execution_count": 19,
     "metadata": {},
     "output_type": "execute_result"
    }
   ],
   "source": [
    "# Checking the percentage of null values in master_frame\n",
    "round(100 * (master_frame.isnull().sum() / len(master_frame.index)), 2)"
   ]
  },
  {
   "cell_type": "markdown",
   "id": "1972d153",
   "metadata": {},
   "source": [
    "### Cleaning the records containing null values"
   ]
  },
  {
   "cell_type": "markdown",
   "id": "97bbbf16",
   "metadata": {},
   "source": [
    "1. Cleaning null-values in `raised_amount_usd`"
   ]
  },
  {
   "cell_type": "code",
   "execution_count": 20,
   "id": "d9e7f265",
   "metadata": {},
   "outputs": [],
   "source": [
    "# Setting a precision of .2f for floating point numbers\n",
    "pd.options.display.float_format = '{:.2f}'.format"
   ]
  },
  {
   "cell_type": "code",
   "execution_count": 21,
   "id": "def1442b",
   "metadata": {},
   "outputs": [
    {
     "data": {
      "text/plain": [
       "count         94959.00\n",
       "mean       10426869.33\n",
       "std       114821247.98\n",
       "min               0.00\n",
       "25%          322500.00\n",
       "50%         1680511.00\n",
       "75%         7000000.00\n",
       "max     21271935000.00\n",
       "Name: raised_amount_usd, dtype: float64"
      ]
     },
     "execution_count": 21,
     "metadata": {},
     "output_type": "execute_result"
    }
   ],
   "source": [
    "# Running .describe() on master_frame's `raised_amount_usd` to decide wether to impute or drop the records\n",
    "# containing null values\n",
    "master_frame['raised_amount_usd'].describe()"
   ]
  },
  {
   "cell_type": "markdown",
   "id": "95168b63",
   "metadata": {},
   "source": [
    "The mean(__10426869.33__) and the median(__1680511.00__) values have a significant diference between them. <br>As such, **_dropping the records_** would be favourable as opposed to imputing these values and introducing a bias."
   ]
  },
  {
   "cell_type": "code",
   "execution_count": 22,
   "id": "ab4992ff",
   "metadata": {},
   "outputs": [
    {
     "data": {
      "text/plain": [
       "permalink            0.00\n",
       "category_list        1.10\n",
       "country_code         6.16\n",
       "funding_round_type   0.00\n",
       "raised_amount_usd    0.00\n",
       "dtype: float64"
      ]
     },
     "execution_count": 22,
     "metadata": {},
     "output_type": "execute_result"
    }
   ],
   "source": [
    "# Dropping the records containing null values in the `raised_amount_usd` column\n",
    "master_frame = master_frame[~master_frame['raised_amount_usd'].isnull()]\n",
    "\n",
    "# Checking the percentage of null values in master_frame\n",
    "round(100 * (master_frame.isnull().sum() / len(master_frame.index)), 2)"
   ]
  },
  {
   "cell_type": "markdown",
   "id": "87c97ac9",
   "metadata": {},
   "source": [
    "2. Cleaning null values in `category_list` and `country_code`\n",
    "    - While these values can be imputed using _mode_, under the assumption that the most recurring value is the missing value in the records\n",
    "    - However as we have a large dataset, it would be better to drop these records instead of introducing a bias."
   ]
  },
  {
   "cell_type": "code",
   "execution_count": 23,
   "id": "896e652a",
   "metadata": {},
   "outputs": [],
   "source": [
    "# Dropping the records containing null values in the `category_list` column\n",
    "# Dropping the records containing null values in the `country_code` column\n",
    "master_frame = master_frame[~(master_frame['category_list'].isnull() | master_frame['country_code'].isnull())]"
   ]
  },
  {
   "cell_type": "code",
   "execution_count": 24,
   "id": "45b79ffa",
   "metadata": {},
   "outputs": [
    {
     "data": {
      "text/plain": [
       "permalink            0.00\n",
       "category_list        0.00\n",
       "country_code         0.00\n",
       "funding_round_type   0.00\n",
       "raised_amount_usd    0.00\n",
       "dtype: float64"
      ]
     },
     "execution_count": 24,
     "metadata": {},
     "output_type": "execute_result"
    }
   ],
   "source": [
    "# Checking the percentage of null values in master_frame\n",
    "round(100 * (master_frame.isnull().sum() / len(master_frame.index)), 2)"
   ]
  },
  {
   "cell_type": "code",
   "execution_count": 25,
   "id": "5949d541",
   "metadata": {},
   "outputs": [
    {
     "name": "stdout",
     "output_type": "stream",
     "text": [
      "Total observations after cleaning = 88529\n",
      "Percentage of records lost = 22.98%\n"
     ]
    }
   ],
   "source": [
    "# Total observations present in the master_frame after cleaning the data\n",
    "total_observations_after_cleaning = master_frame.shape[0]\n",
    "print(f\"Total observations after cleaning = {total_observations_after_cleaning}\")\n",
    "\n",
    "# Percentage of data lost after cleaning the master_frame\n",
    "lost = round((1 - (total_observations_after_cleaning / total_observations)) * 100, 2)\n",
    "print(f\"Percentage of records lost = {lost}%\")"
   ]
  },
  {
   "cell_type": "markdown",
   "id": "3884d7a2",
   "metadata": {},
   "source": [
    "## Checkpoint 2: Funding Type Analysis"
   ]
  },
  {
   "cell_type": "markdown",
   "id": "1847d7b0",
   "metadata": {},
   "source": [
    "- Types of funding present in master_frame"
   ]
  },
  {
   "cell_type": "code",
   "execution_count": 26,
   "id": "12883e1a",
   "metadata": {},
   "outputs": [
    {
     "data": {
      "text/html": [
       "<div>\n",
       "<style scoped>\n",
       "    .dataframe tbody tr th:only-of-type {\n",
       "        vertical-align: middle;\n",
       "    }\n",
       "\n",
       "    .dataframe tbody tr th {\n",
       "        vertical-align: top;\n",
       "    }\n",
       "\n",
       "    .dataframe thead th {\n",
       "        text-align: right;\n",
       "    }\n",
       "</style>\n",
       "<table border=\"1\" class=\"dataframe\">\n",
       "  <thead>\n",
       "    <tr style=\"text-align: right;\">\n",
       "      <th></th>\n",
       "    </tr>\n",
       "    <tr>\n",
       "      <th>funding_round_type</th>\n",
       "    </tr>\n",
       "  </thead>\n",
       "  <tbody>\n",
       "    <tr>\n",
       "      <th>venture</th>\n",
       "    </tr>\n",
       "    <tr>\n",
       "      <th>seed</th>\n",
       "    </tr>\n",
       "    <tr>\n",
       "      <th>undisclosed</th>\n",
       "    </tr>\n",
       "    <tr>\n",
       "      <th>convertible_note</th>\n",
       "    </tr>\n",
       "    <tr>\n",
       "      <th>private_equity</th>\n",
       "    </tr>\n",
       "    <tr>\n",
       "      <th>debt_financing</th>\n",
       "    </tr>\n",
       "    <tr>\n",
       "      <th>angel</th>\n",
       "    </tr>\n",
       "    <tr>\n",
       "      <th>grant</th>\n",
       "    </tr>\n",
       "    <tr>\n",
       "      <th>equity_crowdfunding</th>\n",
       "    </tr>\n",
       "    <tr>\n",
       "      <th>post_ipo_equity</th>\n",
       "    </tr>\n",
       "    <tr>\n",
       "      <th>post_ipo_debt</th>\n",
       "    </tr>\n",
       "    <tr>\n",
       "      <th>product_crowdfunding</th>\n",
       "    </tr>\n",
       "    <tr>\n",
       "      <th>secondary_market</th>\n",
       "    </tr>\n",
       "    <tr>\n",
       "      <th>non_equity_assistance</th>\n",
       "    </tr>\n",
       "  </tbody>\n",
       "</table>\n",
       "</div>"
      ],
      "text/plain": [
       "Empty DataFrame\n",
       "Columns: []\n",
       "Index: [venture, seed, undisclosed, convertible_note, private_equity, debt_financing, angel, grant, equity_crowdfunding, post_ipo_equity, post_ipo_debt, product_crowdfunding, secondary_market, non_equity_assistance]"
      ]
     },
     "execution_count": 26,
     "metadata": {},
     "output_type": "execute_result"
    }
   ],
   "source": [
    "pd.DataFrame(list(master_frame['funding_round_type'].unique()), columns=['funding_round_type']).set_index('funding_round_type')"
   ]
  },
  {
   "cell_type": "markdown",
   "id": "f2569721",
   "metadata": {},
   "source": [
    "#### Of the available investment types in the master_frame dataframe, Sparks Fund in only intrested in the Funding types:\n",
    "1. ___Venture___\n",
    "2. ___Angel___\n",
    "3. ___Seed___\n",
    "4. ___Private Equity___"
   ]
  },
  {
   "cell_type": "code",
   "execution_count": 27,
   "id": "9e64dd21",
   "metadata": {},
   "outputs": [
    {
     "data": {
      "text/html": [
       "<div>\n",
       "<style scoped>\n",
       "    .dataframe tbody tr th:only-of-type {\n",
       "        vertical-align: middle;\n",
       "    }\n",
       "\n",
       "    .dataframe tbody tr th {\n",
       "        vertical-align: top;\n",
       "    }\n",
       "\n",
       "    .dataframe thead th {\n",
       "        text-align: right;\n",
       "    }\n",
       "</style>\n",
       "<table border=\"1\" class=\"dataframe\">\n",
       "  <thead>\n",
       "    <tr style=\"text-align: right;\">\n",
       "      <th></th>\n",
       "      <th>permalink</th>\n",
       "      <th>category_list</th>\n",
       "      <th>country_code</th>\n",
       "      <th>funding_round_type</th>\n",
       "      <th>raised_amount_usd</th>\n",
       "    </tr>\n",
       "  </thead>\n",
       "  <tbody>\n",
       "    <tr>\n",
       "      <th>0</th>\n",
       "      <td>/organization/-fame</td>\n",
       "      <td>Media</td>\n",
       "      <td>IND</td>\n",
       "      <td>venture</td>\n",
       "      <td>10000000.00</td>\n",
       "    </tr>\n",
       "    <tr>\n",
       "      <th>2</th>\n",
       "      <td>/organization/-qounter</td>\n",
       "      <td>Application Platforms|Real Time|Social Network...</td>\n",
       "      <td>USA</td>\n",
       "      <td>seed</td>\n",
       "      <td>700000.00</td>\n",
       "    </tr>\n",
       "    <tr>\n",
       "      <th>4</th>\n",
       "      <td>/organization/0-6-com</td>\n",
       "      <td>Curated Web</td>\n",
       "      <td>CHN</td>\n",
       "      <td>venture</td>\n",
       "      <td>2000000.00</td>\n",
       "    </tr>\n",
       "    <tr>\n",
       "      <th>7</th>\n",
       "      <td>/organization/0ndine-biomedical-inc</td>\n",
       "      <td>Biotechnology</td>\n",
       "      <td>CAN</td>\n",
       "      <td>seed</td>\n",
       "      <td>43360.00</td>\n",
       "    </tr>\n",
       "    <tr>\n",
       "      <th>8</th>\n",
       "      <td>/organization/0ndine-biomedical-inc</td>\n",
       "      <td>Biotechnology</td>\n",
       "      <td>CAN</td>\n",
       "      <td>venture</td>\n",
       "      <td>719491.00</td>\n",
       "    </tr>\n",
       "  </tbody>\n",
       "</table>\n",
       "</div>"
      ],
      "text/plain": [
       "                             permalink  \\\n",
       "0                  /organization/-fame   \n",
       "2               /organization/-qounter   \n",
       "4                /organization/0-6-com   \n",
       "7  /organization/0ndine-biomedical-inc   \n",
       "8  /organization/0ndine-biomedical-inc   \n",
       "\n",
       "                                       category_list country_code  \\\n",
       "0                                              Media          IND   \n",
       "2  Application Platforms|Real Time|Social Network...          USA   \n",
       "4                                        Curated Web          CHN   \n",
       "7                                      Biotechnology          CAN   \n",
       "8                                      Biotechnology          CAN   \n",
       "\n",
       "  funding_round_type  raised_amount_usd  \n",
       "0            venture        10000000.00  \n",
       "2               seed          700000.00  \n",
       "4            venture         2000000.00  \n",
       "7               seed           43360.00  \n",
       "8            venture          719491.00  "
      ]
     },
     "execution_count": 27,
     "metadata": {},
     "output_type": "execute_result"
    }
   ],
   "source": [
    "important_fund_type = ['venture', 'angel', 'seed', 'private_equity']\n",
    "\n",
    "# Creating a dataframe containing only these 4 funding types\n",
    "fund_type = master_frame[master_frame['funding_round_type'].isin(important_fund_type)]\n",
    "\n",
    "# Viewing the first 5 records from fund_type\n",
    "fund_type.head()"
   ]
  },
  {
   "cell_type": "code",
   "execution_count": 28,
   "id": "284727d3",
   "metadata": {},
   "outputs": [
    {
     "data": {
      "image/png": "[encoded data removed]",
      "text/plain": [
       "<Figure size 432x288 with 1 Axes>"
      ]
     },
     "metadata": {
      "needs_background": "light"
     },
     "output_type": "display_data"
    }
   ],
   "source": [
    "# Creating a boxplot to visualize the spread of `raised_amount_usd` across `funding_round_type`\n",
    "sns.boxplot(data=fund_type, x='funding_round_type', y='raised_amount_usd')\n",
    "# Applying log on y-scale to better visualise the boxplots\n",
    "plt.yscale('log')\n",
    "plt.show()"
   ]
  },
  {
   "cell_type": "markdown",
   "id": "55503d8f",
   "metadata": {},
   "source": [
    "#### As there are outliers present across the funding type, median would be a better representative value of the investment amount as mean would be skewed by the outliers"
   ]
  },
  {
   "cell_type": "code",
   "execution_count": 29,
   "id": "f83ce0ed",
   "metadata": {},
   "outputs": [
    {
     "data": {
      "text/html": [
       "<div>\n",
       "<style scoped>\n",
       "    .dataframe tbody tr th:only-of-type {\n",
       "        vertical-align: middle;\n",
       "    }\n",
       "\n",
       "    .dataframe tbody tr th {\n",
       "        vertical-align: top;\n",
       "    }\n",
       "\n",
       "    .dataframe thead th {\n",
       "        text-align: right;\n",
       "    }\n",
       "</style>\n",
       "<table border=\"1\" class=\"dataframe\">\n",
       "  <thead>\n",
       "    <tr style=\"text-align: right;\">\n",
       "      <th></th>\n",
       "      <th>funding_round_type</th>\n",
       "      <th>raised_amount_usd</th>\n",
       "    </tr>\n",
       "  </thead>\n",
       "  <tbody>\n",
       "    <tr>\n",
       "      <th>0</th>\n",
       "      <td>private_equity</td>\n",
       "      <td>20000000.00</td>\n",
       "    </tr>\n",
       "    <tr>\n",
       "      <th>1</th>\n",
       "      <td>venture</td>\n",
       "      <td>5000000.00</td>\n",
       "    </tr>\n",
       "    <tr>\n",
       "      <th>2</th>\n",
       "      <td>angel</td>\n",
       "      <td>414906.00</td>\n",
       "    </tr>\n",
       "    <tr>\n",
       "      <th>3</th>\n",
       "      <td>seed</td>\n",
       "      <td>300000.00</td>\n",
       "    </tr>\n",
       "  </tbody>\n",
       "</table>\n",
       "</div>"
      ],
      "text/plain": [
       "  funding_round_type  raised_amount_usd\n",
       "0     private_equity        20000000.00\n",
       "1            venture         5000000.00\n",
       "2              angel          414906.00\n",
       "3               seed          300000.00"
      ]
     },
     "execution_count": 29,
     "metadata": {},
     "output_type": "execute_result"
    }
   ],
   "source": [
    "# Creating a new dataframe fund_median to help with plotting\n",
    "fund_median = pd.DataFrame(fund_type.groupby('funding_round_type')['raised_amount_usd'].median().sort_values(ascending=False))\n",
    "\n",
    "# Resetting the index to make plotting easier\n",
    "fund_median.reset_index(inplace=True)\n",
    "fund_median"
   ]
  },
  {
   "cell_type": "code",
   "execution_count": 30,
   "id": "3af2f04c",
   "metadata": {},
   "outputs": [
    {
     "data": {
      "text/html": [
       "<div>\n",
       "<style scoped>\n",
       "    .dataframe tbody tr th:only-of-type {\n",
       "        vertical-align: middle;\n",
       "    }\n",
       "\n",
       "    .dataframe tbody tr th {\n",
       "        vertical-align: top;\n",
       "    }\n",
       "\n",
       "    .dataframe thead th {\n",
       "        text-align: right;\n",
       "    }\n",
       "</style>\n",
       "<table border=\"1\" class=\"dataframe\">\n",
       "  <thead>\n",
       "    <tr style=\"text-align: right;\">\n",
       "      <th></th>\n",
       "      <th>funding_round_type</th>\n",
       "      <th>raised_amount_usd</th>\n",
       "    </tr>\n",
       "  </thead>\n",
       "  <tbody>\n",
       "    <tr>\n",
       "      <th>1</th>\n",
       "      <td>venture</td>\n",
       "      <td>5000000.00</td>\n",
       "    </tr>\n",
       "  </tbody>\n",
       "</table>\n",
       "</div>"
      ],
      "text/plain": [
       "  funding_round_type  raised_amount_usd\n",
       "1            venture         5000000.00"
      ]
     },
     "execution_count": 30,
     "metadata": {},
     "output_type": "execute_result"
    }
   ],
   "source": [
    "# Funding type having the representative value between 5 to 15 million USD\n",
    "\n",
    "fund_median[(fund_median['raised_amount_usd'] >= 5000000.00) &\n",
    "            (fund_median['raised_amount_usd'] <= 15000000.00)]"
   ]
  },
  {
   "cell_type": "markdown",
   "id": "7b203004",
   "metadata": {},
   "source": [
    "#### Thus we can conclude that the investment type `venture` is the only investment type that satisfies Sparks Funds `5 to 15 million USD per investment round` criteria."
   ]
  },
  {
   "cell_type": "markdown",
   "id": "5e4f52d3",
   "metadata": {},
   "source": [
    "As we have now identified the funding_round_type that satisfies Sparks Funds investment criteria as venture, creating a dataframe that has records which from fund_type for `funding_round_type = venture`."
   ]
  },
  {
   "cell_type": "code",
   "execution_count": 31,
   "id": "7056e7d8",
   "metadata": {},
   "outputs": [
    {
     "data": {
      "text/html": [
       "<div>\n",
       "<style scoped>\n",
       "    .dataframe tbody tr th:only-of-type {\n",
       "        vertical-align: middle;\n",
       "    }\n",
       "\n",
       "    .dataframe tbody tr th {\n",
       "        vertical-align: top;\n",
       "    }\n",
       "\n",
       "    .dataframe thead th {\n",
       "        text-align: right;\n",
       "    }\n",
       "</style>\n",
       "<table border=\"1\" class=\"dataframe\">\n",
       "  <thead>\n",
       "    <tr style=\"text-align: right;\">\n",
       "      <th></th>\n",
       "      <th>permalink</th>\n",
       "      <th>category_list</th>\n",
       "      <th>country_code</th>\n",
       "      <th>funding_round_type</th>\n",
       "      <th>raised_amount_usd</th>\n",
       "    </tr>\n",
       "  </thead>\n",
       "  <tbody>\n",
       "    <tr>\n",
       "      <th>0</th>\n",
       "      <td>/organization/-fame</td>\n",
       "      <td>Media</td>\n",
       "      <td>IND</td>\n",
       "      <td>venture</td>\n",
       "      <td>10000000.00</td>\n",
       "    </tr>\n",
       "    <tr>\n",
       "      <th>4</th>\n",
       "      <td>/organization/0-6-com</td>\n",
       "      <td>Curated Web</td>\n",
       "      <td>CHN</td>\n",
       "      <td>venture</td>\n",
       "      <td>2000000.00</td>\n",
       "    </tr>\n",
       "    <tr>\n",
       "      <th>8</th>\n",
       "      <td>/organization/0ndine-biomedical-inc</td>\n",
       "      <td>Biotechnology</td>\n",
       "      <td>CAN</td>\n",
       "      <td>venture</td>\n",
       "      <td>719491.00</td>\n",
       "    </tr>\n",
       "    <tr>\n",
       "      <th>10</th>\n",
       "      <td>/organization/0xdata</td>\n",
       "      <td>Analytics</td>\n",
       "      <td>USA</td>\n",
       "      <td>venture</td>\n",
       "      <td>20000000.00</td>\n",
       "    </tr>\n",
       "    <tr>\n",
       "      <th>11</th>\n",
       "      <td>/organization/0xdata</td>\n",
       "      <td>Analytics</td>\n",
       "      <td>USA</td>\n",
       "      <td>venture</td>\n",
       "      <td>1700000.00</td>\n",
       "    </tr>\n",
       "  </tbody>\n",
       "</table>\n",
       "</div>"
      ],
      "text/plain": [
       "                              permalink  category_list country_code  \\\n",
       "0                   /organization/-fame          Media          IND   \n",
       "4                 /organization/0-6-com    Curated Web          CHN   \n",
       "8   /organization/0ndine-biomedical-inc  Biotechnology          CAN   \n",
       "10                 /organization/0xdata      Analytics          USA   \n",
       "11                 /organization/0xdata      Analytics          USA   \n",
       "\n",
       "   funding_round_type  raised_amount_usd  \n",
       "0             venture        10000000.00  \n",
       "4             venture         2000000.00  \n",
       "8             venture          719491.00  \n",
       "10            venture        20000000.00  \n",
       "11            venture         1700000.00  "
      ]
     },
     "execution_count": 31,
     "metadata": {},
     "output_type": "execute_result"
    }
   ],
   "source": [
    "# Creating a dataframe 'fund_type_venture'\n",
    "fund_type_venture = fund_type[fund_type['funding_round_type'] == 'venture']\n",
    "\n",
    "# Viewing the first 5 records in fund_type_venture\n",
    "fund_type_venture.head()"
   ]
  },
  {
   "cell_type": "markdown",
   "id": "d7d15b40",
   "metadata": {},
   "source": [
    "## Checkpoint 3: Country Analysis"
   ]
  },
  {
   "cell_type": "markdown",
   "id": "faccd786",
   "metadata": {},
   "source": [
    "#### Sparks Funds wants to find the top 9 countries that have recieved the highest total funding across all sectors for the chosen investment type"
   ]
  },
  {
   "cell_type": "code",
   "execution_count": 32,
   "id": "11875aba",
   "metadata": {},
   "outputs": [
    {
     "data": {
      "text/html": [
       "<div>\n",
       "<style scoped>\n",
       "    .dataframe tbody tr th:only-of-type {\n",
       "        vertical-align: middle;\n",
       "    }\n",
       "\n",
       "    .dataframe tbody tr th {\n",
       "        vertical-align: top;\n",
       "    }\n",
       "\n",
       "    .dataframe thead th {\n",
       "        text-align: right;\n",
       "    }\n",
       "</style>\n",
       "<table border=\"1\" class=\"dataframe\">\n",
       "  <thead>\n",
       "    <tr style=\"text-align: right;\">\n",
       "      <th></th>\n",
       "      <th>country_code</th>\n",
       "      <th>raised_amount_usd</th>\n",
       "    </tr>\n",
       "  </thead>\n",
       "  <tbody>\n",
       "    <tr>\n",
       "      <th>0</th>\n",
       "      <td>USA</td>\n",
       "      <td>420068029342.00</td>\n",
       "    </tr>\n",
       "    <tr>\n",
       "      <th>1</th>\n",
       "      <td>CHN</td>\n",
       "      <td>39338918773.00</td>\n",
       "    </tr>\n",
       "    <tr>\n",
       "      <th>2</th>\n",
       "      <td>GBR</td>\n",
       "      <td>20072813004.00</td>\n",
       "    </tr>\n",
       "    <tr>\n",
       "      <th>3</th>\n",
       "      <td>IND</td>\n",
       "      <td>14261508718.00</td>\n",
       "    </tr>\n",
       "    <tr>\n",
       "      <th>4</th>\n",
       "      <td>CAN</td>\n",
       "      <td>9482217668.00</td>\n",
       "    </tr>\n",
       "    <tr>\n",
       "      <th>5</th>\n",
       "      <td>FRA</td>\n",
       "      <td>7226851352.00</td>\n",
       "    </tr>\n",
       "    <tr>\n",
       "      <th>6</th>\n",
       "      <td>ISR</td>\n",
       "      <td>6854350477.00</td>\n",
       "    </tr>\n",
       "    <tr>\n",
       "      <th>7</th>\n",
       "      <td>DEU</td>\n",
       "      <td>6306921981.00</td>\n",
       "    </tr>\n",
       "    <tr>\n",
       "      <th>8</th>\n",
       "      <td>JPN</td>\n",
       "      <td>3167647127.00</td>\n",
       "    </tr>\n",
       "  </tbody>\n",
       "</table>\n",
       "</div>"
      ],
      "text/plain": [
       "  country_code  raised_amount_usd\n",
       "0          USA    420068029342.00\n",
       "1          CHN     39338918773.00\n",
       "2          GBR     20072813004.00\n",
       "3          IND     14261508718.00\n",
       "4          CAN      9482217668.00\n",
       "5          FRA      7226851352.00\n",
       "6          ISR      6854350477.00\n",
       "7          DEU      6306921981.00\n",
       "8          JPN      3167647127.00"
      ]
     },
     "execution_count": 32,
     "metadata": {},
     "output_type": "execute_result"
    }
   ],
   "source": [
    "# Creating a dataframe top9 for the top9 countries with the highest total investment\n",
    "top9 = pd.DataFrame(fund_type_venture.groupby('country_code')['raised_amount_usd'].sum().sort_values(ascending=False))[:9]\n",
    "\n",
    "# Resetting the index to make plotting easier\n",
    "top9.reset_index(inplace=True)\n",
    "\n",
    "# Viewing the data in the `top9` dataframe\n",
    "top9"
   ]
  },
  {
   "cell_type": "markdown",
   "id": "0c1f1c43",
   "metadata": {},
   "source": [
    "#### Identifying the top 3 English-Speaking countries in the top9 dataframe"
   ]
  },
  {
   "cell_type": "markdown",
   "id": "cd4770e8",
   "metadata": {},
   "source": [
    "Using **https://en.wikipedia.org/wiki/List_of_territorial_entities_where_English_is_an_official_language** to indentify the top 3 english speaking countries from the top9 dataframe, the top 3 countries from the dataframe turn out be:\n",
    "- `USA`\n",
    "- `GBR`\n",
    "- `IND`"
   ]
  },
  {
   "cell_type": "code",
   "execution_count": 33,
   "id": "9f4d46a6",
   "metadata": {},
   "outputs": [
    {
     "data": {
      "text/html": [
       "<div>\n",
       "<style scoped>\n",
       "    .dataframe tbody tr th:only-of-type {\n",
       "        vertical-align: middle;\n",
       "    }\n",
       "\n",
       "    .dataframe tbody tr th {\n",
       "        vertical-align: top;\n",
       "    }\n",
       "\n",
       "    .dataframe thead th {\n",
       "        text-align: right;\n",
       "    }\n",
       "</style>\n",
       "<table border=\"1\" class=\"dataframe\">\n",
       "  <thead>\n",
       "    <tr style=\"text-align: right;\">\n",
       "      <th></th>\n",
       "      <th>permalink</th>\n",
       "      <th>category_list</th>\n",
       "      <th>country_code</th>\n",
       "      <th>funding_round_type</th>\n",
       "      <th>raised_amount_usd</th>\n",
       "    </tr>\n",
       "  </thead>\n",
       "  <tbody>\n",
       "    <tr>\n",
       "      <th>0</th>\n",
       "      <td>/organization/-fame</td>\n",
       "      <td>Media</td>\n",
       "      <td>IND</td>\n",
       "      <td>venture</td>\n",
       "      <td>10000000.00</td>\n",
       "    </tr>\n",
       "    <tr>\n",
       "      <th>1</th>\n",
       "      <td>/organization/0xdata</td>\n",
       "      <td>Analytics</td>\n",
       "      <td>USA</td>\n",
       "      <td>venture</td>\n",
       "      <td>20000000.00</td>\n",
       "    </tr>\n",
       "    <tr>\n",
       "      <th>2</th>\n",
       "      <td>/organization/0xdata</td>\n",
       "      <td>Analytics</td>\n",
       "      <td>USA</td>\n",
       "      <td>venture</td>\n",
       "      <td>1700000.00</td>\n",
       "    </tr>\n",
       "    <tr>\n",
       "      <th>3</th>\n",
       "      <td>/organization/0xdata</td>\n",
       "      <td>Analytics</td>\n",
       "      <td>USA</td>\n",
       "      <td>venture</td>\n",
       "      <td>8900000.00</td>\n",
       "    </tr>\n",
       "    <tr>\n",
       "      <th>4</th>\n",
       "      <td>/organization/1-mainstream</td>\n",
       "      <td>Apps|Cable|Distribution|Software</td>\n",
       "      <td>USA</td>\n",
       "      <td>venture</td>\n",
       "      <td>5000000.00</td>\n",
       "    </tr>\n",
       "  </tbody>\n",
       "</table>\n",
       "</div>"
      ],
      "text/plain": [
       "                    permalink                     category_list country_code  \\\n",
       "0         /organization/-fame                             Media          IND   \n",
       "1        /organization/0xdata                         Analytics          USA   \n",
       "2        /organization/0xdata                         Analytics          USA   \n",
       "3        /organization/0xdata                         Analytics          USA   \n",
       "4  /organization/1-mainstream  Apps|Cable|Distribution|Software          USA   \n",
       "\n",
       "  funding_round_type  raised_amount_usd  \n",
       "0            venture        10000000.00  \n",
       "1            venture        20000000.00  \n",
       "2            venture         1700000.00  \n",
       "3            venture         8900000.00  \n",
       "4            venture         5000000.00  "
      ]
     },
     "execution_count": 33,
     "metadata": {},
     "output_type": "execute_result"
    }
   ],
   "source": [
    "# The top 3 english speaking countries are USA, GBR and IND\n",
    "# Moving these records to a new dataframe\n",
    "top3 = fund_type_venture[fund_type_venture['country_code'].isin(['USA', 'GBR', 'IND'])]\n",
    "\n",
    "# Viewing the first 5 records in the top3 dataframe\n",
    "top3.reset_index(drop=True, inplace=True)\n",
    "top3.head()"
   ]
  },
  {
   "cell_type": "code",
   "execution_count": 34,
   "id": "d653c1c5",
   "metadata": {},
   "outputs": [
    {
     "data": {
      "text/html": [
       "<div>\n",
       "<style scoped>\n",
       "    .dataframe tbody tr th:only-of-type {\n",
       "        vertical-align: middle;\n",
       "    }\n",
       "\n",
       "    .dataframe tbody tr th {\n",
       "        vertical-align: top;\n",
       "    }\n",
       "\n",
       "    .dataframe thead th {\n",
       "        text-align: right;\n",
       "    }\n",
       "</style>\n",
       "<table border=\"1\" class=\"dataframe\">\n",
       "  <thead>\n",
       "    <tr style=\"text-align: right;\">\n",
       "      <th></th>\n",
       "      <th>country_code</th>\n",
       "      <th>raised_amount_usd</th>\n",
       "      <th>speak_english</th>\n",
       "    </tr>\n",
       "  </thead>\n",
       "  <tbody>\n",
       "    <tr>\n",
       "      <th>0</th>\n",
       "      <td>USA</td>\n",
       "      <td>420068029342.00</td>\n",
       "      <td>Yes</td>\n",
       "    </tr>\n",
       "    <tr>\n",
       "      <th>1</th>\n",
       "      <td>CHN</td>\n",
       "      <td>39338918773.00</td>\n",
       "      <td>No</td>\n",
       "    </tr>\n",
       "    <tr>\n",
       "      <th>2</th>\n",
       "      <td>GBR</td>\n",
       "      <td>20072813004.00</td>\n",
       "      <td>Yes</td>\n",
       "    </tr>\n",
       "    <tr>\n",
       "      <th>3</th>\n",
       "      <td>IND</td>\n",
       "      <td>14261508718.00</td>\n",
       "      <td>Yes</td>\n",
       "    </tr>\n",
       "    <tr>\n",
       "      <th>4</th>\n",
       "      <td>CAN</td>\n",
       "      <td>9482217668.00</td>\n",
       "      <td>Yes</td>\n",
       "    </tr>\n",
       "    <tr>\n",
       "      <th>5</th>\n",
       "      <td>FRA</td>\n",
       "      <td>7226851352.00</td>\n",
       "      <td>No</td>\n",
       "    </tr>\n",
       "    <tr>\n",
       "      <th>6</th>\n",
       "      <td>ISR</td>\n",
       "      <td>6854350477.00</td>\n",
       "      <td>No</td>\n",
       "    </tr>\n",
       "    <tr>\n",
       "      <th>7</th>\n",
       "      <td>DEU</td>\n",
       "      <td>6306921981.00</td>\n",
       "      <td>No</td>\n",
       "    </tr>\n",
       "    <tr>\n",
       "      <th>8</th>\n",
       "      <td>JPN</td>\n",
       "      <td>3167647127.00</td>\n",
       "      <td>No</td>\n",
       "    </tr>\n",
       "  </tbody>\n",
       "</table>\n",
       "</div>"
      ],
      "text/plain": [
       "  country_code  raised_amount_usd speak_english\n",
       "0          USA    420068029342.00           Yes\n",
       "1          CHN     39338918773.00            No\n",
       "2          GBR     20072813004.00           Yes\n",
       "3          IND     14261508718.00           Yes\n",
       "4          CAN      9482217668.00           Yes\n",
       "5          FRA      7226851352.00            No\n",
       "6          ISR      6854350477.00            No\n",
       "7          DEU      6306921981.00            No\n",
       "8          JPN      3167647127.00            No"
      ]
     },
     "execution_count": 34,
     "metadata": {},
     "output_type": "execute_result"
    }
   ],
   "source": [
    "# Adding a flag column 'Speak English' in dataframe top9 for better plotting\n",
    "\n",
    "# Creating a list of English speaking countries from top9 with the help of the provided url\n",
    "speak_english = ['USA', 'GBR', 'IND', 'CAN']\n",
    "\n",
    "# Creating 'speak_english' column\n",
    "top9['speak_english'] = top9['country_code'].apply(lambda x: 'Yes' if x in speak_english else 'No')\n",
    "\n",
    "# Viewing the top9 dataframe\n",
    "top9"
   ]
  },
  {
   "cell_type": "markdown",
   "id": "1e9ba304",
   "metadata": {},
   "source": [
    "# Checkpoint 4: Sector Analysis 1"
   ]
  },
  {
   "cell_type": "markdown",
   "id": "0208eda1",
   "metadata": {},
   "source": [
    "- Extracting the primary sector from category_list column\n",
    "    - category_list contains multiple sub-sectors seperated by a pipe (`|`)\n",
    "    - The business rule to be followed states that the first string before the pipe (`|`) is to be considered as the primary sector"
   ]
  },
  {
   "cell_type": "code",
   "execution_count": 35,
   "id": "28e735fb",
   "metadata": {},
   "outputs": [
    {
     "data": {
      "text/html": [
       "<div>\n",
       "<style scoped>\n",
       "    .dataframe tbody tr th:only-of-type {\n",
       "        vertical-align: middle;\n",
       "    }\n",
       "\n",
       "    .dataframe tbody tr th {\n",
       "        vertical-align: top;\n",
       "    }\n",
       "\n",
       "    .dataframe thead th {\n",
       "        text-align: right;\n",
       "    }\n",
       "</style>\n",
       "<table border=\"1\" class=\"dataframe\">\n",
       "  <thead>\n",
       "    <tr style=\"text-align: right;\">\n",
       "      <th></th>\n",
       "      <th>permalink</th>\n",
       "      <th>country_code</th>\n",
       "      <th>funding_round_type</th>\n",
       "      <th>raised_amount_usd</th>\n",
       "      <th>primary_sector</th>\n",
       "    </tr>\n",
       "  </thead>\n",
       "  <tbody>\n",
       "    <tr>\n",
       "      <th>0</th>\n",
       "      <td>/organization/-fame</td>\n",
       "      <td>IND</td>\n",
       "      <td>venture</td>\n",
       "      <td>10000000.00</td>\n",
       "      <td>Media</td>\n",
       "    </tr>\n",
       "    <tr>\n",
       "      <th>1</th>\n",
       "      <td>/organization/0xdata</td>\n",
       "      <td>USA</td>\n",
       "      <td>venture</td>\n",
       "      <td>20000000.00</td>\n",
       "      <td>Analytics</td>\n",
       "    </tr>\n",
       "    <tr>\n",
       "      <th>2</th>\n",
       "      <td>/organization/0xdata</td>\n",
       "      <td>USA</td>\n",
       "      <td>venture</td>\n",
       "      <td>1700000.00</td>\n",
       "      <td>Analytics</td>\n",
       "    </tr>\n",
       "    <tr>\n",
       "      <th>3</th>\n",
       "      <td>/organization/0xdata</td>\n",
       "      <td>USA</td>\n",
       "      <td>venture</td>\n",
       "      <td>8900000.00</td>\n",
       "      <td>Analytics</td>\n",
       "    </tr>\n",
       "    <tr>\n",
       "      <th>4</th>\n",
       "      <td>/organization/1-mainstream</td>\n",
       "      <td>USA</td>\n",
       "      <td>venture</td>\n",
       "      <td>5000000.00</td>\n",
       "      <td>Apps</td>\n",
       "    </tr>\n",
       "  </tbody>\n",
       "</table>\n",
       "</div>"
      ],
      "text/plain": [
       "                    permalink country_code funding_round_type  \\\n",
       "0         /organization/-fame          IND            venture   \n",
       "1        /organization/0xdata          USA            venture   \n",
       "2        /organization/0xdata          USA            venture   \n",
       "3        /organization/0xdata          USA            venture   \n",
       "4  /organization/1-mainstream          USA            venture   \n",
       "\n",
       "   raised_amount_usd primary_sector  \n",
       "0        10000000.00          Media  \n",
       "1        20000000.00      Analytics  \n",
       "2         1700000.00      Analytics  \n",
       "3         8900000.00      Analytics  \n",
       "4         5000000.00           Apps  "
      ]
     },
     "execution_count": 35,
     "metadata": {},
     "output_type": "execute_result"
    }
   ],
   "source": [
    "# Extracting the primary sector into a new column `primary_sector`\n",
    "top3['primary_sector'] = top3['category_list'].apply(lambda x: x.split('|')[0])\n",
    "\n",
    "# Dropping the redundant `category_list` column\n",
    "top3 = top3.drop(['category_list'], axis=1)\n",
    "\n",
    "# Viewing the first 5 records from top3 dataframe\n",
    "top3.head()"
   ]
  },
  {
   "cell_type": "markdown",
   "id": "0b44d823",
   "metadata": {},
   "source": [
    "- Using mapping.csv file to map each primary sector to one of the eight main sectors"
   ]
  },
  {
   "cell_type": "code",
   "execution_count": 36,
   "id": "b97ec239",
   "metadata": {},
   "outputs": [
    {
     "data": {
      "text/html": [
       "<div>\n",
       "<style scoped>\n",
       "    .dataframe tbody tr th:only-of-type {\n",
       "        vertical-align: middle;\n",
       "    }\n",
       "\n",
       "    .dataframe tbody tr th {\n",
       "        vertical-align: top;\n",
       "    }\n",
       "\n",
       "    .dataframe thead th {\n",
       "        text-align: right;\n",
       "    }\n",
       "</style>\n",
       "<table border=\"1\" class=\"dataframe\">\n",
       "  <thead>\n",
       "    <tr style=\"text-align: right;\">\n",
       "      <th></th>\n",
       "      <th>category_list</th>\n",
       "      <th>Automotive &amp; Sports</th>\n",
       "      <th>Blanks</th>\n",
       "      <th>Cleantech / Semiconductors</th>\n",
       "      <th>Entertainment</th>\n",
       "      <th>Health</th>\n",
       "      <th>Manufacturing</th>\n",
       "      <th>News, Search and Messaging</th>\n",
       "      <th>Others</th>\n",
       "      <th>Social, Finance, Analytics, Advertising</th>\n",
       "    </tr>\n",
       "  </thead>\n",
       "  <tbody>\n",
       "    <tr>\n",
       "      <th>0</th>\n",
       "      <td>NaN</td>\n",
       "      <td>0</td>\n",
       "      <td>1</td>\n",
       "      <td>0</td>\n",
       "      <td>0</td>\n",
       "      <td>0</td>\n",
       "      <td>0</td>\n",
       "      <td>0</td>\n",
       "      <td>0</td>\n",
       "      <td>0</td>\n",
       "    </tr>\n",
       "    <tr>\n",
       "      <th>1</th>\n",
       "      <td>3D</td>\n",
       "      <td>0</td>\n",
       "      <td>0</td>\n",
       "      <td>0</td>\n",
       "      <td>0</td>\n",
       "      <td>0</td>\n",
       "      <td>1</td>\n",
       "      <td>0</td>\n",
       "      <td>0</td>\n",
       "      <td>0</td>\n",
       "    </tr>\n",
       "    <tr>\n",
       "      <th>2</th>\n",
       "      <td>3D Printing</td>\n",
       "      <td>0</td>\n",
       "      <td>0</td>\n",
       "      <td>0</td>\n",
       "      <td>0</td>\n",
       "      <td>0</td>\n",
       "      <td>1</td>\n",
       "      <td>0</td>\n",
       "      <td>0</td>\n",
       "      <td>0</td>\n",
       "    </tr>\n",
       "    <tr>\n",
       "      <th>3</th>\n",
       "      <td>3D Technology</td>\n",
       "      <td>0</td>\n",
       "      <td>0</td>\n",
       "      <td>0</td>\n",
       "      <td>0</td>\n",
       "      <td>0</td>\n",
       "      <td>1</td>\n",
       "      <td>0</td>\n",
       "      <td>0</td>\n",
       "      <td>0</td>\n",
       "    </tr>\n",
       "    <tr>\n",
       "      <th>4</th>\n",
       "      <td>Accounting</td>\n",
       "      <td>0</td>\n",
       "      <td>0</td>\n",
       "      <td>0</td>\n",
       "      <td>0</td>\n",
       "      <td>0</td>\n",
       "      <td>0</td>\n",
       "      <td>0</td>\n",
       "      <td>0</td>\n",
       "      <td>1</td>\n",
       "    </tr>\n",
       "  </tbody>\n",
       "</table>\n",
       "</div>"
      ],
      "text/plain": [
       "   category_list  Automotive & Sports  Blanks  Cleantech / Semiconductors  \\\n",
       "0            NaN                    0       1                           0   \n",
       "1             3D                    0       0                           0   \n",
       "2    3D Printing                    0       0                           0   \n",
       "3  3D Technology                    0       0                           0   \n",
       "4     Accounting                    0       0                           0   \n",
       "\n",
       "   Entertainment  Health  Manufacturing  News, Search and Messaging  Others  \\\n",
       "0              0       0              0                           0       0   \n",
       "1              0       0              1                           0       0   \n",
       "2              0       0              1                           0       0   \n",
       "3              0       0              1                           0       0   \n",
       "4              0       0              0                           0       0   \n",
       "\n",
       "   Social, Finance, Analytics, Advertising  \n",
       "0                                        0  \n",
       "1                                        0  \n",
       "2                                        0  \n",
       "3                                        0  \n",
       "4                                        1  "
      ]
     },
     "execution_count": 36,
     "metadata": {},
     "output_type": "execute_result"
    }
   ],
   "source": [
    "# Loading the 'mapping.csv' data into mapping dataframe\n",
    "mapping = pd.read_csv('mapping.csv')\n",
    "mapping.head()"
   ]
  },
  {
   "cell_type": "code",
   "execution_count": 37,
   "id": "54fd00ce",
   "metadata": {},
   "outputs": [
    {
     "name": "stdout",
     "output_type": "stream",
     "text": [
      "<class 'pandas.core.frame.DataFrame'>\n",
      "RangeIndex: 688 entries, 0 to 687\n",
      "Data columns (total 10 columns):\n",
      " #   Column                                   Non-Null Count  Dtype \n",
      "---  ------                                   --------------  ----- \n",
      " 0   category_list                            687 non-null    object\n",
      " 1   Automotive & Sports                      688 non-null    int64 \n",
      " 2   Blanks                                   688 non-null    int64 \n",
      " 3   Cleantech / Semiconductors               688 non-null    int64 \n",
      " 4   Entertainment                            688 non-null    int64 \n",
      " 5   Health                                   688 non-null    int64 \n",
      " 6   Manufacturing                            688 non-null    int64 \n",
      " 7   News, Search and Messaging               688 non-null    int64 \n",
      " 8   Others                                   688 non-null    int64 \n",
      " 9   Social, Finance, Analytics, Advertising  688 non-null    int64 \n",
      "dtypes: int64(9), object(1)\n",
      "memory usage: 53.9+ KB\n"
     ]
    }
   ],
   "source": [
    "# Running .info() on the mapping dataframe\n",
    "mapping.info()"
   ]
  },
  {
   "cell_type": "code",
   "execution_count": 38,
   "id": "6a7708cc",
   "metadata": {},
   "outputs": [
    {
     "data": {
      "text/plain": [
       "category_list                              1\n",
       "Automotive & Sports                        0\n",
       "Blanks                                     0\n",
       "Cleantech / Semiconductors                 0\n",
       "Entertainment                              0\n",
       "Health                                     0\n",
       "Manufacturing                              0\n",
       "News, Search and Messaging                 0\n",
       "Others                                     0\n",
       "Social, Finance, Analytics, Advertising    0\n",
       "dtype: int64"
      ]
     },
     "execution_count": 38,
     "metadata": {},
     "output_type": "execute_result"
    }
   ],
   "source": [
    "# Cheking the number of null values in each row of mappings dataframe\n",
    "mapping.isnull().sum()"
   ]
  },
  {
   "cell_type": "code",
   "execution_count": 39,
   "id": "98f24913",
   "metadata": {},
   "outputs": [
    {
     "data": {
      "text/html": [
       "<div>\n",
       "<style scoped>\n",
       "    .dataframe tbody tr th:only-of-type {\n",
       "        vertical-align: middle;\n",
       "    }\n",
       "\n",
       "    .dataframe tbody tr th {\n",
       "        vertical-align: top;\n",
       "    }\n",
       "\n",
       "    .dataframe thead th {\n",
       "        text-align: right;\n",
       "    }\n",
       "</style>\n",
       "<table border=\"1\" class=\"dataframe\">\n",
       "  <thead>\n",
       "    <tr style=\"text-align: right;\">\n",
       "      <th></th>\n",
       "      <th>category_list</th>\n",
       "      <th>Automotive &amp; Sports</th>\n",
       "      <th>Blanks</th>\n",
       "      <th>Cleantech / Semiconductors</th>\n",
       "      <th>Entertainment</th>\n",
       "      <th>Health</th>\n",
       "      <th>Manufacturing</th>\n",
       "      <th>News, Search and Messaging</th>\n",
       "      <th>Others</th>\n",
       "      <th>Social, Finance, Analytics, Advertising</th>\n",
       "    </tr>\n",
       "  </thead>\n",
       "  <tbody>\n",
       "    <tr>\n",
       "      <th>1</th>\n",
       "      <td>3D</td>\n",
       "      <td>0</td>\n",
       "      <td>0</td>\n",
       "      <td>0</td>\n",
       "      <td>0</td>\n",
       "      <td>0</td>\n",
       "      <td>1</td>\n",
       "      <td>0</td>\n",
       "      <td>0</td>\n",
       "      <td>0</td>\n",
       "    </tr>\n",
       "    <tr>\n",
       "      <th>2</th>\n",
       "      <td>3D Printing</td>\n",
       "      <td>0</td>\n",
       "      <td>0</td>\n",
       "      <td>0</td>\n",
       "      <td>0</td>\n",
       "      <td>0</td>\n",
       "      <td>1</td>\n",
       "      <td>0</td>\n",
       "      <td>0</td>\n",
       "      <td>0</td>\n",
       "    </tr>\n",
       "    <tr>\n",
       "      <th>3</th>\n",
       "      <td>3D Technology</td>\n",
       "      <td>0</td>\n",
       "      <td>0</td>\n",
       "      <td>0</td>\n",
       "      <td>0</td>\n",
       "      <td>0</td>\n",
       "      <td>1</td>\n",
       "      <td>0</td>\n",
       "      <td>0</td>\n",
       "      <td>0</td>\n",
       "    </tr>\n",
       "    <tr>\n",
       "      <th>4</th>\n",
       "      <td>Accounting</td>\n",
       "      <td>0</td>\n",
       "      <td>0</td>\n",
       "      <td>0</td>\n",
       "      <td>0</td>\n",
       "      <td>0</td>\n",
       "      <td>0</td>\n",
       "      <td>0</td>\n",
       "      <td>0</td>\n",
       "      <td>1</td>\n",
       "    </tr>\n",
       "    <tr>\n",
       "      <th>5</th>\n",
       "      <td>Active Lifestyle</td>\n",
       "      <td>0</td>\n",
       "      <td>0</td>\n",
       "      <td>0</td>\n",
       "      <td>0</td>\n",
       "      <td>1</td>\n",
       "      <td>0</td>\n",
       "      <td>0</td>\n",
       "      <td>0</td>\n",
       "      <td>0</td>\n",
       "    </tr>\n",
       "  </tbody>\n",
       "</table>\n",
       "</div>"
      ],
      "text/plain": [
       "      category_list  Automotive & Sports  Blanks  Cleantech / Semiconductors  \\\n",
       "1                3D                    0       0                           0   \n",
       "2       3D Printing                    0       0                           0   \n",
       "3     3D Technology                    0       0                           0   \n",
       "4        Accounting                    0       0                           0   \n",
       "5  Active Lifestyle                    0       0                           0   \n",
       "\n",
       "   Entertainment  Health  Manufacturing  News, Search and Messaging  Others  \\\n",
       "1              0       0              1                           0       0   \n",
       "2              0       0              1                           0       0   \n",
       "3              0       0              1                           0       0   \n",
       "4              0       0              0                           0       0   \n",
       "5              0       1              0                           0       0   \n",
       "\n",
       "   Social, Finance, Analytics, Advertising  \n",
       "1                                        0  \n",
       "2                                        0  \n",
       "3                                        0  \n",
       "4                                        1  \n",
       "5                                        0  "
      ]
     },
     "execution_count": 39,
     "metadata": {},
     "output_type": "execute_result"
    }
   ],
   "source": [
    "# A single record in category_list has a null value\n",
    "# Dropping the record with the null value\n",
    "mapping = mapping[~mapping['category_list'].isnull()]\n",
    "\n",
    "# Viewing the frist 5 records in the mapping dataframe\n",
    "mapping.head()"
   ]
  },
  {
   "cell_type": "code",
   "execution_count": 40,
   "id": "e7f88cf6",
   "metadata": {},
   "outputs": [
    {
     "data": {
      "text/plain": [
       "Automotive & Sports                         22\n",
       "Blanks                                       0\n",
       "Cleantech / Semiconductors                  53\n",
       "Entertainment                               89\n",
       "Health                                      63\n",
       "Manufacturing                               40\n",
       "News, Search and Messaging                  72\n",
       "Others                                     195\n",
       "Social, Finance, Analytics, Advertising    153\n",
       "dtype: int64"
      ]
     },
     "execution_count": 40,
     "metadata": {},
     "output_type": "execute_result"
    }
   ],
   "source": [
    "# Checking the columns of the mapping dataframe\n",
    "mapping.iloc[:, 1:].sum()"
   ]
  },
  {
   "cell_type": "code",
   "execution_count": 41,
   "id": "408d7093",
   "metadata": {},
   "outputs": [
    {
     "data": {
      "text/html": [
       "<div>\n",
       "<style scoped>\n",
       "    .dataframe tbody tr th:only-of-type {\n",
       "        vertical-align: middle;\n",
       "    }\n",
       "\n",
       "    .dataframe tbody tr th {\n",
       "        vertical-align: top;\n",
       "    }\n",
       "\n",
       "    .dataframe thead th {\n",
       "        text-align: right;\n",
       "    }\n",
       "</style>\n",
       "<table border=\"1\" class=\"dataframe\">\n",
       "  <thead>\n",
       "    <tr style=\"text-align: right;\">\n",
       "      <th></th>\n",
       "      <th>category_list</th>\n",
       "      <th>Automotive &amp; Sports</th>\n",
       "      <th>Cleantech / Semiconductors</th>\n",
       "      <th>Entertainment</th>\n",
       "      <th>Health</th>\n",
       "      <th>Manufacturing</th>\n",
       "      <th>News, Search and Messaging</th>\n",
       "      <th>Others</th>\n",
       "      <th>Social, Finance, Analytics, Advertising</th>\n",
       "    </tr>\n",
       "  </thead>\n",
       "  <tbody>\n",
       "    <tr>\n",
       "      <th>1</th>\n",
       "      <td>3D</td>\n",
       "      <td>0</td>\n",
       "      <td>0</td>\n",
       "      <td>0</td>\n",
       "      <td>0</td>\n",
       "      <td>1</td>\n",
       "      <td>0</td>\n",
       "      <td>0</td>\n",
       "      <td>0</td>\n",
       "    </tr>\n",
       "    <tr>\n",
       "      <th>2</th>\n",
       "      <td>3D Printing</td>\n",
       "      <td>0</td>\n",
       "      <td>0</td>\n",
       "      <td>0</td>\n",
       "      <td>0</td>\n",
       "      <td>1</td>\n",
       "      <td>0</td>\n",
       "      <td>0</td>\n",
       "      <td>0</td>\n",
       "    </tr>\n",
       "    <tr>\n",
       "      <th>3</th>\n",
       "      <td>3D Technology</td>\n",
       "      <td>0</td>\n",
       "      <td>0</td>\n",
       "      <td>0</td>\n",
       "      <td>0</td>\n",
       "      <td>1</td>\n",
       "      <td>0</td>\n",
       "      <td>0</td>\n",
       "      <td>0</td>\n",
       "    </tr>\n",
       "    <tr>\n",
       "      <th>4</th>\n",
       "      <td>Accounting</td>\n",
       "      <td>0</td>\n",
       "      <td>0</td>\n",
       "      <td>0</td>\n",
       "      <td>0</td>\n",
       "      <td>0</td>\n",
       "      <td>0</td>\n",
       "      <td>0</td>\n",
       "      <td>1</td>\n",
       "    </tr>\n",
       "    <tr>\n",
       "      <th>5</th>\n",
       "      <td>Active Lifestyle</td>\n",
       "      <td>0</td>\n",
       "      <td>0</td>\n",
       "      <td>0</td>\n",
       "      <td>1</td>\n",
       "      <td>0</td>\n",
       "      <td>0</td>\n",
       "      <td>0</td>\n",
       "      <td>0</td>\n",
       "    </tr>\n",
       "  </tbody>\n",
       "</table>\n",
       "</div>"
      ],
      "text/plain": [
       "      category_list  Automotive & Sports  Cleantech / Semiconductors  \\\n",
       "1                3D                    0                           0   \n",
       "2       3D Printing                    0                           0   \n",
       "3     3D Technology                    0                           0   \n",
       "4        Accounting                    0                           0   \n",
       "5  Active Lifestyle                    0                           0   \n",
       "\n",
       "   Entertainment  Health  Manufacturing  News, Search and Messaging  Others  \\\n",
       "1              0       0              1                           0       0   \n",
       "2              0       0              1                           0       0   \n",
       "3              0       0              1                           0       0   \n",
       "4              0       0              0                           0       0   \n",
       "5              0       1              0                           0       0   \n",
       "\n",
       "   Social, Finance, Analytics, Advertising  \n",
       "1                                        0  \n",
       "2                                        0  \n",
       "3                                        0  \n",
       "4                                        1  \n",
       "5                                        0  "
      ]
     },
     "execution_count": 41,
     "metadata": {},
     "output_type": "execute_result"
    }
   ],
   "source": [
    "# As Blanks column has no data in it\n",
    "# Dropping the Blanks column\n",
    "mapping = mapping.drop('Blanks', axis=1)\n",
    "\n",
    "# Viewing the first 5 records in the mapping dataframe\n",
    "mapping.head()"
   ]
  },
  {
   "cell_type": "markdown",
   "id": "d92c76e3",
   "metadata": {},
   "source": [
    "- mapping.csv is in wide format, converting it to long format"
   ]
  },
  {
   "cell_type": "code",
   "execution_count": 42,
   "id": "4c334d9e",
   "metadata": {},
   "outputs": [
    {
     "name": "stdout",
     "output_type": "stream",
     "text": [
      "['Automotive & Sports', 'Cleantech / Semiconductors', 'Entertainment', 'Health', 'Manufacturing', 'News, Search and Messaging', 'Others', 'Social, Finance, Analytics, Advertising']\n",
      "\n",
      "['category_list']\n"
     ]
    }
   ],
   "source": [
    "# Storing the value variables in one list\n",
    "value_vars = list(mapping.columns[1:])\n",
    "\n",
    "# Using .setdiff1d() to get the rest of the variables\n",
    "id_vars = list(np.setdiff1d(mapping.columns ,value_vars))\n",
    "\n",
    "print(f\"{value_vars}\\n\\n{id_vars}\")"
   ]
  },
  {
   "cell_type": "code",
   "execution_count": 43,
   "id": "1f2c018b",
   "metadata": {},
   "outputs": [
    {
     "data": {
      "text/html": [
       "<div>\n",
       "<style scoped>\n",
       "    .dataframe tbody tr th:only-of-type {\n",
       "        vertical-align: middle;\n",
       "    }\n",
       "\n",
       "    .dataframe tbody tr th {\n",
       "        vertical-align: top;\n",
       "    }\n",
       "\n",
       "    .dataframe thead th {\n",
       "        text-align: right;\n",
       "    }\n",
       "</style>\n",
       "<table border=\"1\" class=\"dataframe\">\n",
       "  <thead>\n",
       "    <tr style=\"text-align: right;\">\n",
       "      <th></th>\n",
       "      <th>category_list</th>\n",
       "      <th>main_sector</th>\n",
       "    </tr>\n",
       "  </thead>\n",
       "  <tbody>\n",
       "    <tr>\n",
       "      <th>0</th>\n",
       "      <td>Adventure Travel</td>\n",
       "      <td>Automotive &amp; Sports</td>\n",
       "    </tr>\n",
       "    <tr>\n",
       "      <th>1</th>\n",
       "      <td>Aerospace</td>\n",
       "      <td>Automotive &amp; Sports</td>\n",
       "    </tr>\n",
       "    <tr>\n",
       "      <th>2</th>\n",
       "      <td>Auto</td>\n",
       "      <td>Automotive &amp; Sports</td>\n",
       "    </tr>\n",
       "    <tr>\n",
       "      <th>3</th>\n",
       "      <td>Automated Kiosk</td>\n",
       "      <td>Automotive &amp; Sports</td>\n",
       "    </tr>\n",
       "    <tr>\n",
       "      <th>4</th>\n",
       "      <td>Automotive</td>\n",
       "      <td>Automotive &amp; Sports</td>\n",
       "    </tr>\n",
       "  </tbody>\n",
       "</table>\n",
       "</div>"
      ],
      "text/plain": [
       "      category_list          main_sector\n",
       "0  Adventure Travel  Automotive & Sports\n",
       "1         Aerospace  Automotive & Sports\n",
       "2              Auto  Automotive & Sports\n",
       "3   Automated Kiosk  Automotive & Sports\n",
       "4        Automotive  Automotive & Sports"
      ]
     },
     "execution_count": 43,
     "metadata": {},
     "output_type": "execute_result"
    }
   ],
   "source": [
    "# Using melt to map the category list to the main sectors\n",
    "mapping = pd.melt(mapping, id_vars=id_vars, value_vars=value_vars, var_name='main_sector', ignore_index=False)\n",
    "\n",
    "# Filtering the necessary values\n",
    "mapping = mapping[mapping['value'] == 1]\n",
    "\n",
    "# Dropping the value column as it is no longer needed\n",
    "mapping = mapping.drop('value', axis=1)\n",
    "\n",
    "# Viewing the first 5 records in the mapping dataframe\n",
    "mapping.reset_index(drop=True, inplace=True)\n",
    "mapping.head()"
   ]
  },
  {
   "cell_type": "code",
   "execution_count": 44,
   "id": "ade6b8f3",
   "metadata": {},
   "outputs": [
    {
     "name": "stdout",
     "output_type": "stream",
     "text": [
      "<class 'pandas.core.frame.DataFrame'>\n",
      "RangeIndex: 687 entries, 0 to 686\n",
      "Data columns (total 2 columns):\n",
      " #   Column         Non-Null Count  Dtype \n",
      "---  ------         --------------  ----- \n",
      " 0   category_list  687 non-null    object\n",
      " 1   main_sector    687 non-null    object\n",
      "dtypes: object(2)\n",
      "memory usage: 10.9+ KB\n"
     ]
    }
   ],
   "source": [
    "# Running .info() on the mapping dataframe\n",
    "mapping.info()"
   ]
  },
  {
   "cell_type": "code",
   "execution_count": 45,
   "id": "ca785408",
   "metadata": {},
   "outputs": [
    {
     "data": {
      "text/plain": [
       "687"
      ]
     },
     "execution_count": 45,
     "metadata": {},
     "output_type": "execute_result"
    }
   ],
   "source": [
    "len(mapping['category_list'].unique())"
   ]
  },
  {
   "cell_type": "markdown",
   "id": "8f1f2394",
   "metadata": {},
   "source": [
    "Using `.str.casefold()` to ensure there are no issues caused by the case"
   ]
  },
  {
   "cell_type": "code",
   "execution_count": 46,
   "id": "d76f7db3",
   "metadata": {},
   "outputs": [],
   "source": [
    "# Using .str.casefold() on primary_sector of the top3 dataframe\n",
    "top3['primary_sector'] = top3['primary_sector'].str.casefold()\n",
    "\n",
    "# Using .str.casefold() on the category_list of the mapping dataframe\n",
    "mapping['category_list'] = mapping['category_list'].str.casefold()"
   ]
  },
  {
   "cell_type": "code",
   "execution_count": 47,
   "id": "96c59448",
   "metadata": {},
   "outputs": [
    {
     "data": {
      "text/html": [
       "<div>\n",
       "<style scoped>\n",
       "    .dataframe tbody tr th:only-of-type {\n",
       "        vertical-align: middle;\n",
       "    }\n",
       "\n",
       "    .dataframe tbody tr th {\n",
       "        vertical-align: top;\n",
       "    }\n",
       "\n",
       "    .dataframe thead th {\n",
       "        text-align: right;\n",
       "    }\n",
       "</style>\n",
       "<table border=\"1\" class=\"dataframe\">\n",
       "  <thead>\n",
       "    <tr style=\"text-align: right;\">\n",
       "      <th></th>\n",
       "      <th>permalink</th>\n",
       "      <th>country_code</th>\n",
       "      <th>funding_round_type</th>\n",
       "      <th>raised_amount_usd</th>\n",
       "      <th>primary_sector</th>\n",
       "    </tr>\n",
       "  </thead>\n",
       "  <tbody>\n",
       "    <tr>\n",
       "      <th>0</th>\n",
       "      <td>/organization/-fame</td>\n",
       "      <td>IND</td>\n",
       "      <td>venture</td>\n",
       "      <td>10000000.00</td>\n",
       "      <td>media</td>\n",
       "    </tr>\n",
       "    <tr>\n",
       "      <th>1</th>\n",
       "      <td>/organization/0xdata</td>\n",
       "      <td>USA</td>\n",
       "      <td>venture</td>\n",
       "      <td>20000000.00</td>\n",
       "      <td>analytics</td>\n",
       "    </tr>\n",
       "    <tr>\n",
       "      <th>2</th>\n",
       "      <td>/organization/0xdata</td>\n",
       "      <td>USA</td>\n",
       "      <td>venture</td>\n",
       "      <td>1700000.00</td>\n",
       "      <td>analytics</td>\n",
       "    </tr>\n",
       "    <tr>\n",
       "      <th>3</th>\n",
       "      <td>/organization/0xdata</td>\n",
       "      <td>USA</td>\n",
       "      <td>venture</td>\n",
       "      <td>8900000.00</td>\n",
       "      <td>analytics</td>\n",
       "    </tr>\n",
       "    <tr>\n",
       "      <th>4</th>\n",
       "      <td>/organization/1-mainstream</td>\n",
       "      <td>USA</td>\n",
       "      <td>venture</td>\n",
       "      <td>5000000.00</td>\n",
       "      <td>apps</td>\n",
       "    </tr>\n",
       "  </tbody>\n",
       "</table>\n",
       "</div>"
      ],
      "text/plain": [
       "                    permalink country_code funding_round_type  \\\n",
       "0         /organization/-fame          IND            venture   \n",
       "1        /organization/0xdata          USA            venture   \n",
       "2        /organization/0xdata          USA            venture   \n",
       "3        /organization/0xdata          USA            venture   \n",
       "4  /organization/1-mainstream          USA            venture   \n",
       "\n",
       "   raised_amount_usd primary_sector  \n",
       "0        10000000.00          media  \n",
       "1        20000000.00      analytics  \n",
       "2         1700000.00      analytics  \n",
       "3         8900000.00      analytics  \n",
       "4         5000000.00           apps  "
      ]
     },
     "execution_count": 47,
     "metadata": {},
     "output_type": "execute_result"
    }
   ],
   "source": [
    "# Viewing the first 5 records of the  top3 dataframe\n",
    "top3.head()"
   ]
  },
  {
   "cell_type": "code",
   "execution_count": 48,
   "id": "1088bda9",
   "metadata": {},
   "outputs": [
    {
     "data": {
      "text/html": [
       "<div>\n",
       "<style scoped>\n",
       "    .dataframe tbody tr th:only-of-type {\n",
       "        vertical-align: middle;\n",
       "    }\n",
       "\n",
       "    .dataframe tbody tr th {\n",
       "        vertical-align: top;\n",
       "    }\n",
       "\n",
       "    .dataframe thead th {\n",
       "        text-align: right;\n",
       "    }\n",
       "</style>\n",
       "<table border=\"1\" class=\"dataframe\">\n",
       "  <thead>\n",
       "    <tr style=\"text-align: right;\">\n",
       "      <th></th>\n",
       "      <th>category_list</th>\n",
       "      <th>main_sector</th>\n",
       "    </tr>\n",
       "  </thead>\n",
       "  <tbody>\n",
       "    <tr>\n",
       "      <th>0</th>\n",
       "      <td>adventure travel</td>\n",
       "      <td>Automotive &amp; Sports</td>\n",
       "    </tr>\n",
       "    <tr>\n",
       "      <th>1</th>\n",
       "      <td>aerospace</td>\n",
       "      <td>Automotive &amp; Sports</td>\n",
       "    </tr>\n",
       "    <tr>\n",
       "      <th>2</th>\n",
       "      <td>auto</td>\n",
       "      <td>Automotive &amp; Sports</td>\n",
       "    </tr>\n",
       "    <tr>\n",
       "      <th>3</th>\n",
       "      <td>automated kiosk</td>\n",
       "      <td>Automotive &amp; Sports</td>\n",
       "    </tr>\n",
       "    <tr>\n",
       "      <th>4</th>\n",
       "      <td>automotive</td>\n",
       "      <td>Automotive &amp; Sports</td>\n",
       "    </tr>\n",
       "  </tbody>\n",
       "</table>\n",
       "</div>"
      ],
      "text/plain": [
       "      category_list          main_sector\n",
       "0  adventure travel  Automotive & Sports\n",
       "1         aerospace  Automotive & Sports\n",
       "2              auto  Automotive & Sports\n",
       "3   automated kiosk  Automotive & Sports\n",
       "4        automotive  Automotive & Sports"
      ]
     },
     "execution_count": 48,
     "metadata": {},
     "output_type": "execute_result"
    }
   ],
   "source": [
    "# Viewing the first 5 records of the mapping dataframe\n",
    "mapping.head()"
   ]
  },
  {
   "cell_type": "markdown",
   "id": "71dbc713",
   "metadata": {},
   "source": [
    "- Checking if all the categories in primary_sector of top3 dataframe are present in the category_list of the mapping dataframe"
   ]
  },
  {
   "cell_type": "code",
   "execution_count": 49,
   "id": "d6f3703f",
   "metadata": {},
   "outputs": [
    {
     "data": {
      "text/html": [
       "<div>\n",
       "<style scoped>\n",
       "    .dataframe tbody tr th:only-of-type {\n",
       "        vertical-align: middle;\n",
       "    }\n",
       "\n",
       "    .dataframe tbody tr th {\n",
       "        vertical-align: top;\n",
       "    }\n",
       "\n",
       "    .dataframe thead th {\n",
       "        text-align: right;\n",
       "    }\n",
       "</style>\n",
       "<table border=\"1\" class=\"dataframe\">\n",
       "  <thead>\n",
       "    <tr style=\"text-align: right;\">\n",
       "      <th></th>\n",
       "      <th>permalink</th>\n",
       "      <th>country_code</th>\n",
       "      <th>funding_round_type</th>\n",
       "      <th>raised_amount_usd</th>\n",
       "      <th>primary_sector</th>\n",
       "    </tr>\n",
       "  </thead>\n",
       "  <tbody>\n",
       "    <tr>\n",
       "      <th>1</th>\n",
       "      <td>/organization/0xdata</td>\n",
       "      <td>USA</td>\n",
       "      <td>venture</td>\n",
       "      <td>20000000.00</td>\n",
       "      <td>analytics</td>\n",
       "    </tr>\n",
       "    <tr>\n",
       "      <th>2</th>\n",
       "      <td>/organization/0xdata</td>\n",
       "      <td>USA</td>\n",
       "      <td>venture</td>\n",
       "      <td>1700000.00</td>\n",
       "      <td>analytics</td>\n",
       "    </tr>\n",
       "    <tr>\n",
       "      <th>3</th>\n",
       "      <td>/organization/0xdata</td>\n",
       "      <td>USA</td>\n",
       "      <td>venture</td>\n",
       "      <td>8900000.00</td>\n",
       "      <td>analytics</td>\n",
       "    </tr>\n",
       "    <tr>\n",
       "      <th>12</th>\n",
       "      <td>/organization/100plus</td>\n",
       "      <td>USA</td>\n",
       "      <td>venture</td>\n",
       "      <td>500000.00</td>\n",
       "      <td>analytics</td>\n",
       "    </tr>\n",
       "    <tr>\n",
       "      <th>43</th>\n",
       "      <td>/organization/1world-online</td>\n",
       "      <td>USA</td>\n",
       "      <td>venture</td>\n",
       "      <td>2500000.00</td>\n",
       "      <td>analytics</td>\n",
       "    </tr>\n",
       "    <tr>\n",
       "      <th>...</th>\n",
       "      <td>...</td>\n",
       "      <td>...</td>\n",
       "      <td>...</td>\n",
       "      <td>...</td>\n",
       "      <td>...</td>\n",
       "    </tr>\n",
       "    <tr>\n",
       "      <th>38674</th>\n",
       "      <td>/organization/zoopla</td>\n",
       "      <td>GBR</td>\n",
       "      <td>venture</td>\n",
       "      <td>5440000.00</td>\n",
       "      <td>property management</td>\n",
       "    </tr>\n",
       "    <tr>\n",
       "      <th>38688</th>\n",
       "      <td>/organization/zopa</td>\n",
       "      <td>GBR</td>\n",
       "      <td>venture</td>\n",
       "      <td>12900000.00</td>\n",
       "      <td>finance</td>\n",
       "    </tr>\n",
       "    <tr>\n",
       "      <th>38689</th>\n",
       "      <td>/organization/zopa</td>\n",
       "      <td>GBR</td>\n",
       "      <td>venture</td>\n",
       "      <td>15000000.00</td>\n",
       "      <td>finance</td>\n",
       "    </tr>\n",
       "    <tr>\n",
       "      <th>38690</th>\n",
       "      <td>/organization/zopa</td>\n",
       "      <td>GBR</td>\n",
       "      <td>venture</td>\n",
       "      <td>5000000.00</td>\n",
       "      <td>finance</td>\n",
       "    </tr>\n",
       "    <tr>\n",
       "      <th>38691</th>\n",
       "      <td>/organization/zopa</td>\n",
       "      <td>GBR</td>\n",
       "      <td>venture</td>\n",
       "      <td>1000000.00</td>\n",
       "      <td>finance</td>\n",
       "    </tr>\n",
       "  </tbody>\n",
       "</table>\n",
       "<p>2616 rows × 5 columns</p>\n",
       "</div>"
      ],
      "text/plain": [
       "                         permalink country_code funding_round_type  \\\n",
       "1             /organization/0xdata          USA            venture   \n",
       "2             /organization/0xdata          USA            venture   \n",
       "3             /organization/0xdata          USA            venture   \n",
       "12           /organization/100plus          USA            venture   \n",
       "43     /organization/1world-online          USA            venture   \n",
       "...                            ...          ...                ...   \n",
       "38674         /organization/zoopla          GBR            venture   \n",
       "38688           /organization/zopa          GBR            venture   \n",
       "38689           /organization/zopa          GBR            venture   \n",
       "38690           /organization/zopa          GBR            venture   \n",
       "38691           /organization/zopa          GBR            venture   \n",
       "\n",
       "       raised_amount_usd       primary_sector  \n",
       "1            20000000.00            analytics  \n",
       "2             1700000.00            analytics  \n",
       "3             8900000.00            analytics  \n",
       "12             500000.00            analytics  \n",
       "43            2500000.00            analytics  \n",
       "...                  ...                  ...  \n",
       "38674         5440000.00  property management  \n",
       "38688        12900000.00              finance  \n",
       "38689        15000000.00              finance  \n",
       "38690         5000000.00              finance  \n",
       "38691         1000000.00              finance  \n",
       "\n",
       "[2616 rows x 5 columns]"
      ]
     },
     "execution_count": 49,
     "metadata": {},
     "output_type": "execute_result"
    }
   ],
   "source": [
    "top3[~top3['primary_sector'].isin(mapping['category_list'])]"
   ]
  },
  {
   "cell_type": "markdown",
   "id": "955d44fb",
   "metadata": {},
   "source": [
    "There are __2616__ records in top3 dataframe, which have a value for primary_sector which is not present in category_list of the mapping dataframe. As __2616__ is a substancial number of records to loose:"
   ]
  },
  {
   "cell_type": "markdown",
   "id": "11a08707",
   "metadata": {},
   "source": [
    "- Checking to see if all the categories in the category_list of the mapping dataframe are present in the primary_sector of the top3 dataframe "
   ]
  },
  {
   "cell_type": "code",
   "execution_count": 50,
   "id": "709aac48",
   "metadata": {},
   "outputs": [
    {
     "data": {
      "text/html": [
       "<div>\n",
       "<style scoped>\n",
       "    .dataframe tbody tr th:only-of-type {\n",
       "        vertical-align: middle;\n",
       "    }\n",
       "\n",
       "    .dataframe tbody tr th {\n",
       "        vertical-align: top;\n",
       "    }\n",
       "\n",
       "    .dataframe thead th {\n",
       "        text-align: right;\n",
       "    }\n",
       "</style>\n",
       "<table border=\"1\" class=\"dataframe\">\n",
       "  <thead>\n",
       "    <tr style=\"text-align: right;\">\n",
       "      <th></th>\n",
       "      <th>category_list</th>\n",
       "      <th>main_sector</th>\n",
       "    </tr>\n",
       "  </thead>\n",
       "  <tbody>\n",
       "    <tr>\n",
       "      <th>6</th>\n",
       "      <td>boating industry</td>\n",
       "      <td>Automotive &amp; Sports</td>\n",
       "    </tr>\n",
       "    <tr>\n",
       "      <th>21</th>\n",
       "      <td>unmanned air systems</td>\n",
       "      <td>Automotive &amp; Sports</td>\n",
       "    </tr>\n",
       "    <tr>\n",
       "      <th>22</th>\n",
       "      <td>air pollution control</td>\n",
       "      <td>Cleantech / Semiconductors</td>\n",
       "    </tr>\n",
       "    <tr>\n",
       "      <th>23</th>\n",
       "      <td>aquaculture</td>\n",
       "      <td>Cleantech / Semiconductors</td>\n",
       "    </tr>\n",
       "    <tr>\n",
       "      <th>27</th>\n",
       "      <td>biomass power generation</td>\n",
       "      <td>Cleantech / Semiconductors</td>\n",
       "    </tr>\n",
       "    <tr>\n",
       "      <th>...</th>\n",
       "      <td>...</td>\n",
       "      <td>...</td>\n",
       "    </tr>\n",
       "    <tr>\n",
       "      <th>681</th>\n",
       "      <td>social news</td>\n",
       "      <td>Social, Finance, Analytics, Advertising</td>\n",
       "    </tr>\n",
       "    <tr>\n",
       "      <th>682</th>\n",
       "      <td>social recruiting</td>\n",
       "      <td>Social, Finance, Analytics, Advertising</td>\n",
       "    </tr>\n",
       "    <tr>\n",
       "      <th>683</th>\n",
       "      <td>social television</td>\n",
       "      <td>Social, Finance, Analytics, Advertising</td>\n",
       "    </tr>\n",
       "    <tr>\n",
       "      <th>684</th>\n",
       "      <td>social travel</td>\n",
       "      <td>Social, Finance, Analytics, Advertising</td>\n",
       "    </tr>\n",
       "    <tr>\n",
       "      <th>685</th>\n",
       "      <td>stock exchanges</td>\n",
       "      <td>Social, Finance, Analytics, Advertising</td>\n",
       "    </tr>\n",
       "  </tbody>\n",
       "</table>\n",
       "<p>175 rows × 2 columns</p>\n",
       "</div>"
      ],
      "text/plain": [
       "                category_list                              main_sector\n",
       "6            boating industry                      Automotive & Sports\n",
       "21       unmanned air systems                      Automotive & Sports\n",
       "22      air pollution control               Cleantech / Semiconductors\n",
       "23                aquaculture               Cleantech / Semiconductors\n",
       "27   biomass power generation               Cleantech / Semiconductors\n",
       "..                        ...                                      ...\n",
       "681               social news  Social, Finance, Analytics, Advertising\n",
       "682         social recruiting  Social, Finance, Analytics, Advertising\n",
       "683         social television  Social, Finance, Analytics, Advertising\n",
       "684             social travel  Social, Finance, Analytics, Advertising\n",
       "685           stock exchanges  Social, Finance, Analytics, Advertising\n",
       "\n",
       "[175 rows x 2 columns]"
      ]
     },
     "execution_count": 50,
     "metadata": {},
     "output_type": "execute_result"
    }
   ],
   "source": [
    "mapping[~mapping['category_list'].isin(top3['primary_sector'])]"
   ]
  },
  {
   "cell_type": "code",
   "execution_count": 51,
   "id": "e415d5c0",
   "metadata": {},
   "outputs": [
    {
     "data": {
      "text/plain": [
       "175"
      ]
     },
     "execution_count": 51,
     "metadata": {},
     "output_type": "execute_result"
    }
   ],
   "source": [
    "len(mapping[~mapping['category_list'].isin(top3['primary_sector'])])"
   ]
  },
  {
   "cell_type": "markdown",
   "id": "d2ea6142",
   "metadata": {},
   "source": [
    "- Checking the values in mapping dataframes category_list"
   ]
  },
  {
   "cell_type": "code",
   "execution_count": 52,
   "id": "6db11512",
   "metadata": {},
   "outputs": [
    {
     "data": {
      "text/plain": [
       "['adventure travel',\n",
       " 'aerospace',\n",
       " 'auto',\n",
       " 'automated kiosk',\n",
       " 'automotive',\n",
       " 'bicycles',\n",
       " 'boating industry',\n",
       " 'cad',\n",
       " 'cars',\n",
       " 'design',\n",
       " 'designers',\n",
       " 'drones',\n",
       " 'electric vehicles',\n",
       " 'fuels',\n",
       " 'heavy industry',\n",
       " 'industrial automation',\n",
       " 'limousines',\n",
       " 'soccer',\n",
       " 'sporting goods',\n",
       " 'sports',\n",
       " 'transportation',\n",
       " 'unmanned air systems',\n",
       " 'air pollution control',\n",
       " 'aquaculture',\n",
       " 'bio-pharm',\n",
       " 'biofuels',\n",
       " 'bioinformatics',\n",
       " 'biomass power generation',\n",
       " 'biometrics',\n",
       " 'biotechnology',\n",
       " 'bitcoin',\n",
       " 'carbon',\n",
       " 'chemicals',\n",
       " 'clean energy',\n",
       " 'clean technology',\n",
       " 'clean technology it',\n",
       " 'commercial solar',\n",
       " 'commodities',\n",
       " 'concentrated solar power',\n",
       " 'disruptive models',\n",
       " 'early-stage technology',\n",
       " 'energy',\n",
       " 'energy efficiency',\n",
       " 'energy it',\n",
       " 'energy ma0gement',\n",
       " 'energy storage',\n",
       " 'environmental innovation',\n",
       " 'fertility',\n",
       " 'fuel cells',\n",
       " 'funeral industry',\n",
       " 'gas',\n",
       " 'green',\n",
       " 'green consumer goods',\n",
       " 'home & garden',\n",
       " 'home automation',\n",
       " 'home decor',\n",
       " 'lighting',\n",
       " 'material science',\n",
       " 'mechanical solutions',\n",
       " 'minerals',\n",
       " 'mining technologies',\n",
       " '0notechnology',\n",
       " '0tural language processing',\n",
       " '0tural resources',\n",
       " 'recycling',\n",
       " 'renewable energies',\n",
       " 'renewable tech',\n",
       " 'semiconductor manufacturing equipment',\n",
       " 'semiconductors',\n",
       " 'solar',\n",
       " 'space travel',\n",
       " 'waste ma0gement',\n",
       " 'water',\n",
       " 'water purification',\n",
       " 'wearables',\n",
       " 'art',\n",
       " 'artists globally',\n",
       " 'audio',\n",
       " 'audiobooks',\n",
       " 'brewing',\n",
       " 'business travelers',\n",
       " 'casual games',\n",
       " 'celebrity',\n",
       " 'coffee',\n",
       " 'comics',\n",
       " 'concerts',\n",
       " 'console gaming',\n",
       " 'content',\n",
       " 'content creators',\n",
       " 'content delivery',\n",
       " 'content discovery',\n",
       " 'content syndication',\n",
       " 'contests',\n",
       " 'craft beer',\n",
       " 'creative',\n",
       " 'creative industries',\n",
       " 'digital entertainment',\n",
       " 'digital media',\n",
       " 'digital rights ma0gement',\n",
       " 'digital sig0ge',\n",
       " 'e-books',\n",
       " 'ebooks',\n",
       " 'educatio0l games',\n",
       " 'edutainment',\n",
       " 'entertainment',\n",
       " 'entertainment industry',\n",
       " 'event ma0gement',\n",
       " 'events',\n",
       " 'fantasy sports',\n",
       " 'fashion',\n",
       " 'film',\n",
       " 'film distribution',\n",
       " 'film production',\n",
       " 'freetoplay gaming',\n",
       " 'gambling',\n",
       " 'game',\n",
       " 'game mechanics',\n",
       " 'games',\n",
       " 'gamification',\n",
       " 'hotels',\n",
       " 'in-flight entertainment',\n",
       " 'independent music labels',\n",
       " 'interface design',\n",
       " 'interior design',\n",
       " 'jewelry',\n",
       " 'leisure',\n",
       " 'lifestyle',\n",
       " 'lifestyle businesses',\n",
       " 'lifestyle products',\n",
       " 'media',\n",
       " 'mobile games',\n",
       " 'mobile video',\n",
       " 'music',\n",
       " 'music education',\n",
       " 'music services',\n",
       " 'music venues',\n",
       " 'musical instruments',\n",
       " 'musicians',\n",
       " 'online gaming',\n",
       " 'online video advertising',\n",
       " 'photo editing',\n",
       " 'photo sharing',\n",
       " 'photography',\n",
       " 'resorts',\n",
       " 'restaurants',\n",
       " 'reviews and recommendations',\n",
       " 'shoes',\n",
       " 'shopping',\n",
       " 'television',\n",
       " 'theatre',\n",
       " 'ticketing',\n",
       " 'tourism',\n",
       " 'travel',\n",
       " 'travel & tourism',\n",
       " 'video',\n",
       " 'video conferencing',\n",
       " 'video games',\n",
       " 'video on demand',\n",
       " 'video streaming',\n",
       " 'virtual workforces',\n",
       " 'voip',\n",
       " 'weddings',\n",
       " 'wine and spirits',\n",
       " 'wireless',\n",
       " 'active lifestyle',\n",
       " 'alter0tive medicine',\n",
       " 'animal feed',\n",
       " 'assisitive technology',\n",
       " 'assisted living',\n",
       " 'babies',\n",
       " 'baby accessories',\n",
       " 'baby boomers',\n",
       " 'baby safety',\n",
       " 'beauty',\n",
       " 'can0bis',\n",
       " 'child care',\n",
       " 'clinical trials',\n",
       " 'cooking',\n",
       " 'corporate wellness',\n",
       " 'cosmetic surgery',\n",
       " 'cosmetics',\n",
       " 'dental',\n",
       " 'diabetes',\n",
       " 'diagnostics',\n",
       " 'dietary supplements',\n",
       " 'doctors',\n",
       " 'elder care',\n",
       " 'electronic health records',\n",
       " 'exercise',\n",
       " 'eyewear',\n",
       " 'fitness',\n",
       " 'genetic testing',\n",
       " 'health and insurance',\n",
       " 'health and wellness',\n",
       " 'health care',\n",
       " 'health care information technology',\n",
       " 'health diagnostics',\n",
       " 'health services industry',\n",
       " 'healthcare services',\n",
       " 'hospitals',\n",
       " 'independent pharmacies',\n",
       " 'lasers',\n",
       " 'medical',\n",
       " 'medical devices',\n",
       " 'medical professio0ls',\n",
       " 'mens specific',\n",
       " 'mhealth',\n",
       " 'mobile health',\n",
       " 'neuroscience',\n",
       " 'nutrition',\n",
       " 'organic',\n",
       " 'organic food',\n",
       " 'outdoors',\n",
       " 'perso0l health',\n",
       " 'pets',\n",
       " 'pharmaceuticals',\n",
       " 'physicians',\n",
       " 'public safety',\n",
       " 'public transportation',\n",
       " 'senior citizens',\n",
       " 'senior health',\n",
       " 'sextech',\n",
       " 'specialty chemicals',\n",
       " 'specialty foods',\n",
       " 'speech recognition',\n",
       " 'therapeutics',\n",
       " 'veteri0ry',\n",
       " '3d',\n",
       " '3d printing',\n",
       " '3d technology',\n",
       " 'advanced materials',\n",
       " 'agriculture',\n",
       " 'architecture',\n",
       " 'batteries',\n",
       " 'building products',\n",
       " 'civil engineers',\n",
       " 'communications hardware',\n",
       " 'communications infrastructure',\n",
       " 'computer vision',\n",
       " 'computers',\n",
       " 'construction',\n",
       " 'consumer electronics',\n",
       " 'consumer goods',\n",
       " 'defense',\n",
       " 'displays',\n",
       " 'dod/military',\n",
       " 'electrical distribution',\n",
       " 'electronics',\n",
       " 'embedded hardware and software',\n",
       " 'farmers market',\n",
       " 'farming',\n",
       " 'fmcg',\n",
       " 'food processing',\n",
       " 'furniture',\n",
       " 'gadget',\n",
       " 'groceries',\n",
       " 'handmade',\n",
       " 'hardware',\n",
       " 'hardware + software',\n",
       " 'industrial',\n",
       " 'manufacturing',\n",
       " 'mobile infrastructure',\n",
       " 'mobile software tools',\n",
       " 'new product development',\n",
       " 'new technologies',\n",
       " 'optical communications',\n",
       " 'storage',\n",
       " 'app discovery',\n",
       " 'app marketing',\n",
       " 'app stores',\n",
       " 'application performance monitoring',\n",
       " 'application platforms',\n",
       " 'apps',\n",
       " 'archiving',\n",
       " 'blogging platforms',\n",
       " 'broadcasting',\n",
       " 'brokers',\n",
       " 'browser extensions',\n",
       " 'building owners',\n",
       " 'cable',\n",
       " 'call center automation',\n",
       " 'certification test',\n",
       " 'chat',\n",
       " 'chi0 internet',\n",
       " 'classifieds',\n",
       " 'cloud-based music',\n",
       " 'cloud computing',\n",
       " 'cloud data services',\n",
       " 'cloud infrastructure',\n",
       " 'cloud ma0gement',\n",
       " 'cloud security',\n",
       " 'commercial real estate',\n",
       " 'comparison shopping',\n",
       " 'curated web',\n",
       " 'delivery',\n",
       " 'demographies',\n",
       " 'direct marketing',\n",
       " 'direct sales',\n",
       " 'domains',\n",
       " 'email',\n",
       " 'enterprise search',\n",
       " 'forums',\n",
       " 'gps',\n",
       " 'graphics',\n",
       " 'group sms',\n",
       " 'internet',\n",
       " 'internet infrastructure',\n",
       " 'internet radio market',\n",
       " 'internet service providers',\n",
       " 'jour0lism',\n",
       " 'local search',\n",
       " 'maps',\n",
       " 'meeting software',\n",
       " 'messaging',\n",
       " 'microblogging',\n",
       " 'mobile',\n",
       " 'mobile devices',\n",
       " 'mobile enterprise',\n",
       " 'mobile social',\n",
       " '0vigation',\n",
       " 'news',\n",
       " 'online dating',\n",
       " 'online rental',\n",
       " 'online reservations',\n",
       " 'online scheduling',\n",
       " 'online shopping',\n",
       " 'online travel',\n",
       " 'peer-to-peer',\n",
       " 'private social networking',\n",
       " 'professio0l networking',\n",
       " 'publishing',\n",
       " 'q&a',\n",
       " 'recruiting',\n",
       " 'ride sharing',\n",
       " 'search',\n",
       " 'search marketing',\n",
       " 'seo',\n",
       " 'web browsers',\n",
       " 'web design',\n",
       " 'advice',\n",
       " 'algorithms',\n",
       " 'all markets',\n",
       " 'all students',\n",
       " 'alumni',\n",
       " 'angels',\n",
       " 'collectibles',\n",
       " 'college campuses',\n",
       " 'distribution',\n",
       " 'distributors',\n",
       " 'diy',\n",
       " 'document ma0gement',\n",
       " 'e-commerce',\n",
       " 'e-commerce platforms',\n",
       " 'eda tools',\n",
       " 'ediscovery',\n",
       " 'edtech',\n",
       " 'education',\n",
       " 'emerging markets',\n",
       " 'employment',\n",
       " 'engineering firms',\n",
       " 'enterprise 2.0',\n",
       " 'enterprise application',\n",
       " 'enterprise resource planning',\n",
       " 'enterprise security',\n",
       " 'enterprise software',\n",
       " 'enterprises',\n",
       " 'entrepreneur',\n",
       " 'families',\n",
       " 'field support services',\n",
       " 'file sharing',\n",
       " 'flash sales',\n",
       " 'flash storage',\n",
       " 'fleet ma0gement',\n",
       " 'flowers',\n",
       " 'freelancers',\n",
       " 'fruit',\n",
       " 'gay & lesbian',\n",
       " 'general public worldwide',\n",
       " 'geospatial',\n",
       " 'gift card',\n",
       " 'gift exchange',\n",
       " 'gift registries',\n",
       " 'gover0nce',\n",
       " 'government innovation',\n",
       " 'governments',\n",
       " 'guides',\n",
       " 'high school students',\n",
       " 'high schools',\n",
       " 'high tech',\n",
       " 'home owners',\n",
       " 'home renovation',\n",
       " 'homeland security',\n",
       " 'homeless shelter',\n",
       " 'hospitality',\n",
       " 'human computer interaction',\n",
       " 'human resource automation',\n",
       " 'human resources',\n",
       " 'humanitarian',\n",
       " 'iaas',\n",
       " 'ict',\n",
       " 'identity',\n",
       " 'indians',\n",
       " 'indoor positioning',\n",
       " 'intellectual asset ma0gement',\n",
       " 'intellectual property',\n",
       " 'intelligent systems',\n",
       " 'interest graph',\n",
       " 'ios',\n",
       " 'ipad',\n",
       " 'iphone',\n",
       " 'it and cybersecurity',\n",
       " 'it ma0gement',\n",
       " 'k-12 education',\n",
       " 'kids',\n",
       " 'knowledge ma0gement',\n",
       " 'landscaping',\n",
       " 'language learning',\n",
       " 'law enforcement',\n",
       " 'lead generation',\n",
       " 'lead ma0gement',\n",
       " 'legal',\n",
       " 'licensing',\n",
       " 'life sciences',\n",
       " 'linux',\n",
       " 'local',\n",
       " 'local based services',\n",
       " 'local businesses',\n",
       " 'local commerce',\n",
       " 'location based services',\n",
       " 'logistics',\n",
       " 'logistics company',\n",
       " 'low bid auctions',\n",
       " 'loyalty programs',\n",
       " 'm2m',\n",
       " 'marketplaces',\n",
       " 'mass customization',\n",
       " 'match-making',\n",
       " 'micro-enterprises',\n",
       " 'mobile security',\n",
       " 'mobility',\n",
       " 'network security',\n",
       " 'networking',\n",
       " 'non-tech',\n",
       " 'non profit',\n",
       " 'nonprofits',\n",
       " 'office space',\n",
       " 'oil',\n",
       " 'oil & gas',\n",
       " 'oil and gas',\n",
       " 'online education',\n",
       " 'online identity',\n",
       " 'open source',\n",
       " 'opinions',\n",
       " 'optimization',\n",
       " 'outsourcing',\n",
       " 'parenting',\n",
       " 'parking',\n",
       " 'perso0l data',\n",
       " 'perso0lization',\n",
       " 'pervasive computing',\n",
       " 'physical security',\n",
       " 'plumbers',\n",
       " 'point of sale',\n",
       " 'politics',\n",
       " 'polling',\n",
       " 'portals',\n",
       " 'postal and courier services',\n",
       " 'presentations',\n",
       " 'printing',\n",
       " 'privacy',\n",
       " 'private school',\n",
       " 'procurement',\n",
       " 'product design',\n",
       " 'product development services',\n",
       " 'productivity',\n",
       " 'productivity software',\n",
       " 'professio0l services',\n",
       " 'project ma0gement',\n",
       " 'qr codes',\n",
       " 'real estate',\n",
       " 'real time',\n",
       " 'realtors',\n",
       " 'recreation',\n",
       " 'religion',\n",
       " 'rental housing',\n",
       " 'reputation',\n",
       " 'rfid',\n",
       " 'robotics',\n",
       " 'saas',\n",
       " 'sales automation',\n",
       " 'security',\n",
       " 'sensors',\n",
       " 'service industries',\n",
       " 'service providers',\n",
       " 'services',\n",
       " 'shared services',\n",
       " 'shipping',\n",
       " 'simulation',\n",
       " 'skill assessment',\n",
       " 'small and medium businesses',\n",
       " 'smart grid',\n",
       " 'sns',\n",
       " 'software',\n",
       " 'staffing firms',\n",
       " 'startups',\n",
       " 'subscription service',\n",
       " 'supply chain ma0gement',\n",
       " 'surveys',\n",
       " 'synchronization',\n",
       " 'systems',\n",
       " 'task ma0gement',\n",
       " 'taxis',\n",
       " 'tea',\n",
       " 'technology',\n",
       " 'telecommunications',\n",
       " 'textiles',\n",
       " 'tracking',\n",
       " 'trading',\n",
       " 'training',\n",
       " 'translation',\n",
       " 'universities',\n",
       " 'university students',\n",
       " 'usability',\n",
       " 'user experience design',\n",
       " 'user interface',\n",
       " 'utilities',\n",
       " 'vending and concessions',\n",
       " 'watch',\n",
       " 'web development',\n",
       " 'web hosting',\n",
       " 'web tools',\n",
       " 'wholesale',\n",
       " 'women',\n",
       " 'young adults',\n",
       " 'accounting',\n",
       " 'ad targeting',\n",
       " 'advertising',\n",
       " 'advertising exchanges',\n",
       " 'advertising networks',\n",
       " 'advertising platforms',\n",
       " 'a0lytics',\n",
       " 'android',\n",
       " 'anything capital intensive',\n",
       " 'artificial intelligence',\n",
       " 'auctions',\n",
       " 'augmented reality',\n",
       " 'b2b',\n",
       " 'b2b express delivery',\n",
       " 'banking',\n",
       " 'big data',\n",
       " 'big data a0lytics',\n",
       " 'billing',\n",
       " 'bpo services',\n",
       " 'brand marketing',\n",
       " 'bridging online and offline',\n",
       " 'business a0lytics',\n",
       " 'business development',\n",
       " 'business information systems',\n",
       " 'business intelligence',\n",
       " 'business productivity',\n",
       " 'business services',\n",
       " 'career ma0gement',\n",
       " 'career planning',\n",
       " 'charities',\n",
       " 'charity',\n",
       " 'charter schools',\n",
       " 'collaboration',\n",
       " 'collaborative consumption',\n",
       " 'college recruiting',\n",
       " 'colleges',\n",
       " 'communities',\n",
       " 'consulting',\n",
       " 'consumer behavior',\n",
       " 'consumer internet',\n",
       " 'consumer lending',\n",
       " 'consumers',\n",
       " 'contact centers',\n",
       " 'contact ma0gement',\n",
       " 'corporate it',\n",
       " 'corporate training',\n",
       " 'coupons',\n",
       " 'coworking',\n",
       " 'credit',\n",
       " 'credit cards',\n",
       " 'crm',\n",
       " 'crowdfunding',\n",
       " 'crowdsourcing',\n",
       " 'custom retail',\n",
       " 'customer service',\n",
       " 'customer support tools',\n",
       " 'cyber',\n",
       " 'cyber security',\n",
       " 'data center automation',\n",
       " 'data center infrastructure',\n",
       " 'data centers',\n",
       " 'data integration',\n",
       " 'data mining',\n",
       " 'data privacy',\n",
       " 'data security',\n",
       " 'data visualization',\n",
       " 'databases',\n",
       " 'debt collecting',\n",
       " 'developer apis',\n",
       " 'developer tools',\n",
       " 'development platforms',\n",
       " 'direct advertising',\n",
       " 'discounts',\n",
       " 'email marketing',\n",
       " 'email newsletters',\n",
       " 'employer benefits programs',\n",
       " 'enterprise purchasing',\n",
       " 'estimation and quoting',\n",
       " 'face recognition',\n",
       " 'facebook applications',\n",
       " 'fi0nce',\n",
       " 'fi0nce technology',\n",
       " 'fi0ncial exchanges',\n",
       " 'fi0ncial services',\n",
       " 'fintech',\n",
       " 'fraud detection',\n",
       " 'freemium',\n",
       " 'gold',\n",
       " 'group buying',\n",
       " 'hedge funds',\n",
       " 'identity ma0gement',\n",
       " 'image recognition',\n",
       " 'impact investing',\n",
       " 'incentives',\n",
       " 'incubators',\n",
       " 'information security',\n",
       " 'information services',\n",
       " 'information technology',\n",
       " 'infrastructure',\n",
       " 'innovation engineering',\n",
       " 'innovation ma0gement',\n",
       " 'insurance',\n",
       " 'internet marketing',\n",
       " 'internet of things',\n",
       " 'investment ma0gement',\n",
       " 'local advertising',\n",
       " 'lotteries',\n",
       " 'machine learning',\n",
       " 'market research',\n",
       " 'marketing automation',\n",
       " 'mobile advertising',\n",
       " 'mobile a0lytics',\n",
       " 'mobile commerce',\n",
       " 'mobile payments',\n",
       " 'mobile shopping',\n",
       " 'monetization',\n",
       " 'moneymaking',\n",
       " 'multi-level marketing',\n",
       " 'p2p money transfer',\n",
       " 'paas',\n",
       " 'payments',\n",
       " 'performance marketing',\n",
       " 'perso0l branding',\n",
       " 'perso0l fi0nce',\n",
       " 'pre seed',\n",
       " 'predictive a0lytics',\n",
       " 'price comparison',\n",
       " 'promotio0l',\n",
       " 'property ma0gement',\n",
       " 'public relations',\n",
       " 'retail',\n",
       " 'retail technology',\n",
       " 'risk ma0gement',\n",
       " 'sales and marketing',\n",
       " 'social + mobile + local',\n",
       " 'social bookmarking',\n",
       " 'social business',\n",
       " 'social buying',\n",
       " 'social commerce',\n",
       " 'social crm',\n",
       " 'social fundraising',\n",
       " 'social games',\n",
       " 'social media',\n",
       " 'social media ma0gement',\n",
       " 'social media marketing',\n",
       " 'social media platforms',\n",
       " 'social network media',\n",
       " 'social news',\n",
       " 'social recruiting',\n",
       " 'social television',\n",
       " 'social travel',\n",
       " 'stock exchanges',\n",
       " 'venture capital']"
      ]
     },
     "execution_count": 52,
     "metadata": {},
     "output_type": "execute_result"
    }
   ],
   "source": [
    "# category_list has all unique values, so running .unique() again is redundant\n",
    "list(mapping['category_list'])"
   ]
  },
  {
   "cell_type": "markdown",
   "id": "2fea6e23",
   "metadata": {},
   "source": [
    "When going through the values present in category_list of the mapping dataframe, there appear to be a error in the data. The image below highlights the issue:"
   ]
  },
  {
   "attachments": {
    "na_0.png": {
     "image/png": "[encoded data removed]"
    }
   },
   "cell_type": "markdown",
   "id": "9794172d",
   "metadata": {},
   "source": [
    "![na_0.png](attachment:na_0.png)"
   ]
  },
  {
   "cell_type": "markdown",
   "id": "2cf66dd8",
   "metadata": {},
   "source": [
    "'na' has been replaced with 0, as can be seen in the picture where '`na`notechnology' has become '0notechnology', or '`na`tural' has become '0tural', or 'ma`na`gement' has become 'ma0gement'."
   ]
  },
  {
   "cell_type": "markdown",
   "id": "2713efc4",
   "metadata": {},
   "source": [
    "- Replacing '0' in the category list with 'na'"
   ]
  },
  {
   "cell_type": "code",
   "execution_count": 53,
   "id": "66bb78d6",
   "metadata": {},
   "outputs": [
    {
     "data": {
      "text/plain": [
       "44                 energy ma0gement\n",
       "61                    0notechnology\n",
       "62       0tural language processing\n",
       "63                 0tural resources\n",
       "71                  waste ma0gement\n",
       "98         digital rights ma0gement\n",
       "99                   digital sig0ge\n",
       "102                educatio0l games\n",
       "106                 event ma0gement\n",
       "165             alter0tive medicine\n",
       "174                         can0bis\n",
       "204            medical professio0ls\n",
       "213                  perso0l health\n",
       "226                       veteri0ry\n",
       "283                   chi0 internet\n",
       "289                 cloud ma0gement\n",
       "309                       jour0lism\n",
       "319                       0vigation\n",
       "329          professio0l networking\n",
       "350              document ma0gement\n",
       "360                  enterprise 2.0\n",
       "372                 fleet ma0gement\n",
       "382                       gover0nce\n",
       "403    intellectual asset ma0gement\n",
       "411                    it ma0gement\n",
       "414             knowledge ma0gement\n",
       "419                  lead ma0gement\n",
       "457                    perso0l data\n",
       "458                  perso0lization\n",
       "476            professio0l services\n",
       "477               project ma0gement\n",
       "506          supply chain ma0gement\n",
       "510                  task ma0gement\n",
       "540                        a0lytics\n",
       "550               big data a0lytics\n",
       "555               business a0lytics\n",
       "561                career ma0gement\n",
       "577               contact ma0gement\n",
       "614                          fi0nce\n",
       "615               fi0nce technology\n",
       "616              fi0ncial exchanges\n",
       "617               fi0ncial services\n",
       "624              identity ma0gement\n",
       "634            innovation ma0gement\n",
       "638            investment ma0gement\n",
       "645                 mobile a0lytics\n",
       "656                perso0l branding\n",
       "657                  perso0l fi0nce\n",
       "659             predictive a0lytics\n",
       "661                      promotio0l\n",
       "662              property ma0gement\n",
       "666                  risk ma0gement\n",
       "677          social media ma0gement\n",
       "Name: category_list, dtype: object"
      ]
     },
     "execution_count": 53,
     "metadata": {},
     "output_type": "execute_result"
    }
   ],
   "source": [
    "# Before replacing '0' with 'na', checking the values in the affected records\n",
    "mapping[~mapping['category_list'].apply(lambda x: x if any(ele in '0' for ele in x) else '').isin([''])]['category_list']"
   ]
  },
  {
   "cell_type": "markdown",
   "id": "318b853b",
   "metadata": {},
   "source": [
    "On traversing the list printed above, '**enterprise 2.0**' is the only record with a __valid '0' value__, rest of the records __have 'na' replaced with '0'__."
   ]
  },
  {
   "cell_type": "code",
   "execution_count": 54,
   "id": "f56e2582",
   "metadata": {},
   "outputs": [
    {
     "data": {
      "text/html": [
       "<div>\n",
       "<style scoped>\n",
       "    .dataframe tbody tr th:only-of-type {\n",
       "        vertical-align: middle;\n",
       "    }\n",
       "\n",
       "    .dataframe tbody tr th {\n",
       "        vertical-align: top;\n",
       "    }\n",
       "\n",
       "    .dataframe thead th {\n",
       "        text-align: right;\n",
       "    }\n",
       "</style>\n",
       "<table border=\"1\" class=\"dataframe\">\n",
       "  <thead>\n",
       "    <tr style=\"text-align: right;\">\n",
       "      <th></th>\n",
       "      <th>category_list</th>\n",
       "      <th>main_sector</th>\n",
       "    </tr>\n",
       "  </thead>\n",
       "  <tbody>\n",
       "    <tr>\n",
       "      <th>360</th>\n",
       "      <td>enterprise 2.0</td>\n",
       "      <td>Others</td>\n",
       "    </tr>\n",
       "  </tbody>\n",
       "</table>\n",
       "</div>"
      ],
      "text/plain": [
       "      category_list main_sector\n",
       "360  enterprise 2.0      Others"
      ]
     },
     "execution_count": 54,
     "metadata": {},
     "output_type": "execute_result"
    }
   ],
   "source": [
    "# Replacing '0' in the category_list for mapping with 'na'\n",
    "mapping['category_list'] = mapping['category_list'].apply(lambda x: x if x[-1] == '0' else x.replace('0', 'na'))\n",
    "\n",
    "# Checking if there are any zeros present in the category_list aside from the zero in 'enterprise 2.0'\n",
    "mapping[~mapping['category_list'].apply(lambda x: x if any(ele in '0' for ele in x) else '').isin([''])]"
   ]
  },
  {
   "cell_type": "markdown",
   "id": "d3113b0e",
   "metadata": {},
   "source": [
    "Now that '0' has been replaced with 'na':\n",
    "- Checking if all the categories in primary_sector of top3 dataframe are present in the category_list of the mapping dataframe"
   ]
  },
  {
   "cell_type": "code",
   "execution_count": 55,
   "id": "998eba07",
   "metadata": {},
   "outputs": [
    {
     "data": {
      "text/html": [
       "<div>\n",
       "<style scoped>\n",
       "    .dataframe tbody tr th:only-of-type {\n",
       "        vertical-align: middle;\n",
       "    }\n",
       "\n",
       "    .dataframe tbody tr th {\n",
       "        vertical-align: top;\n",
       "    }\n",
       "\n",
       "    .dataframe thead th {\n",
       "        text-align: right;\n",
       "    }\n",
       "</style>\n",
       "<table border=\"1\" class=\"dataframe\">\n",
       "  <thead>\n",
       "    <tr style=\"text-align: right;\">\n",
       "      <th></th>\n",
       "      <th>permalink</th>\n",
       "      <th>country_code</th>\n",
       "      <th>funding_round_type</th>\n",
       "      <th>raised_amount_usd</th>\n",
       "      <th>primary_sector</th>\n",
       "    </tr>\n",
       "  </thead>\n",
       "  <tbody>\n",
       "    <tr>\n",
       "      <th>7345</th>\n",
       "      <td>/organization/clean-vehicle-solutions</td>\n",
       "      <td>USA</td>\n",
       "      <td>venture</td>\n",
       "      <td>125000.00</td>\n",
       "      <td>natural gas uses</td>\n",
       "    </tr>\n",
       "    <tr>\n",
       "      <th>10162</th>\n",
       "      <td>/organization/dolores-speech-products</td>\n",
       "      <td>USA</td>\n",
       "      <td>venture</td>\n",
       "      <td>250000.00</td>\n",
       "      <td>adaptive equipment</td>\n",
       "    </tr>\n",
       "    <tr>\n",
       "      <th>12375</th>\n",
       "      <td>/organization/fia-formula-e</td>\n",
       "      <td>GBR</td>\n",
       "      <td>venture</td>\n",
       "      <td>68569234.00</td>\n",
       "      <td>racing</td>\n",
       "    </tr>\n",
       "    <tr>\n",
       "      <th>12630</th>\n",
       "      <td>/organization/five-below</td>\n",
       "      <td>USA</td>\n",
       "      <td>venture</td>\n",
       "      <td>194000000.00</td>\n",
       "      <td>specialty retail</td>\n",
       "    </tr>\n",
       "    <tr>\n",
       "      <th>14956</th>\n",
       "      <td>/organization/healthtell</td>\n",
       "      <td>USA</td>\n",
       "      <td>venture</td>\n",
       "      <td>9486929.00</td>\n",
       "      <td>biotechnology and semiconductor</td>\n",
       "    </tr>\n",
       "    <tr>\n",
       "      <th>17882</th>\n",
       "      <td>/organization/justinmind</td>\n",
       "      <td>USA</td>\n",
       "      <td>venture</td>\n",
       "      <td>862000.00</td>\n",
       "      <td>rapidly expanding</td>\n",
       "    </tr>\n",
       "    <tr>\n",
       "      <th>23816</th>\n",
       "      <td>/organization/omega-point-research</td>\n",
       "      <td>USA</td>\n",
       "      <td>venture</td>\n",
       "      <td>3172815.00</td>\n",
       "      <td>product search</td>\n",
       "    </tr>\n",
       "    <tr>\n",
       "      <th>29949</th>\n",
       "      <td>/organization/sense-labs-inc-</td>\n",
       "      <td>USA</td>\n",
       "      <td>venture</td>\n",
       "      <td>2499999.00</td>\n",
       "      <td>greentech</td>\n",
       "    </tr>\n",
       "    <tr>\n",
       "      <th>30210</th>\n",
       "      <td>/organization/shantiniketan-incorporated</td>\n",
       "      <td>USA</td>\n",
       "      <td>venture</td>\n",
       "      <td>1100000.00</td>\n",
       "      <td>retirement</td>\n",
       "    </tr>\n",
       "    <tr>\n",
       "      <th>30211</th>\n",
       "      <td>/organization/shantiniketan-incorporated</td>\n",
       "      <td>USA</td>\n",
       "      <td>venture</td>\n",
       "      <td>2000000.00</td>\n",
       "      <td>retirement</td>\n",
       "    </tr>\n",
       "    <tr>\n",
       "      <th>35906</th>\n",
       "      <td>/organization/velocomp</td>\n",
       "      <td>USA</td>\n",
       "      <td>venture</td>\n",
       "      <td>1420000.00</td>\n",
       "      <td>adaptive equipment</td>\n",
       "    </tr>\n",
       "  </tbody>\n",
       "</table>\n",
       "</div>"
      ],
      "text/plain": [
       "                                      permalink country_code  \\\n",
       "7345      /organization/clean-vehicle-solutions          USA   \n",
       "10162     /organization/dolores-speech-products          USA   \n",
       "12375               /organization/fia-formula-e          GBR   \n",
       "12630                  /organization/five-below          USA   \n",
       "14956                  /organization/healthtell          USA   \n",
       "17882                  /organization/justinmind          USA   \n",
       "23816        /organization/omega-point-research          USA   \n",
       "29949             /organization/sense-labs-inc-          USA   \n",
       "30210  /organization/shantiniketan-incorporated          USA   \n",
       "30211  /organization/shantiniketan-incorporated          USA   \n",
       "35906                    /organization/velocomp          USA   \n",
       "\n",
       "      funding_round_type  raised_amount_usd                   primary_sector  \n",
       "7345             venture          125000.00                 natural gas uses  \n",
       "10162            venture          250000.00               adaptive equipment  \n",
       "12375            venture        68569234.00                           racing  \n",
       "12630            venture       194000000.00                 specialty retail  \n",
       "14956            venture         9486929.00  biotechnology and semiconductor  \n",
       "17882            venture          862000.00                rapidly expanding  \n",
       "23816            venture         3172815.00                   product search  \n",
       "29949            venture         2499999.00                        greentech  \n",
       "30210            venture         1100000.00                       retirement  \n",
       "30211            venture         2000000.00                       retirement  \n",
       "35906            venture         1420000.00               adaptive equipment  "
      ]
     },
     "execution_count": 55,
     "metadata": {},
     "output_type": "execute_result"
    }
   ],
   "source": [
    "top3[~top3['primary_sector'].isin(mapping['category_list'])]"
   ]
  },
  {
   "cell_type": "code",
   "execution_count": 56,
   "id": "69f16d84",
   "metadata": {},
   "outputs": [
    {
     "data": {
      "text/plain": [
       "11"
      ]
     },
     "execution_count": 56,
     "metadata": {},
     "output_type": "execute_result"
    }
   ],
   "source": [
    "len(top3[~top3['primary_sector'].isin(mapping['category_list'])])"
   ]
  },
  {
   "cell_type": "markdown",
   "id": "7a1aa676",
   "metadata": {},
   "source": [
    "Now there are only __11__ records which have a value for primary_sector which is not in the category_list of the mapping dataframe. This is much better then the previous observation where the value was __2616__ records."
   ]
  },
  {
   "cell_type": "markdown",
   "id": "25ef2cf1",
   "metadata": {},
   "source": [
    "- Checking if all the categories in category_list of mapping dataframe are present in the primary_sector of the top3 dataframe"
   ]
  },
  {
   "cell_type": "code",
   "execution_count": 57,
   "id": "08c0cf64",
   "metadata": {},
   "outputs": [
    {
     "data": {
      "text/html": [
       "<div>\n",
       "<style scoped>\n",
       "    .dataframe tbody tr th:only-of-type {\n",
       "        vertical-align: middle;\n",
       "    }\n",
       "\n",
       "    .dataframe tbody tr th {\n",
       "        vertical-align: top;\n",
       "    }\n",
       "\n",
       "    .dataframe thead th {\n",
       "        text-align: right;\n",
       "    }\n",
       "</style>\n",
       "<table border=\"1\" class=\"dataframe\">\n",
       "  <thead>\n",
       "    <tr style=\"text-align: right;\">\n",
       "      <th></th>\n",
       "      <th>category_list</th>\n",
       "      <th>main_sector</th>\n",
       "    </tr>\n",
       "  </thead>\n",
       "  <tbody>\n",
       "    <tr>\n",
       "      <th>6</th>\n",
       "      <td>boating industry</td>\n",
       "      <td>Automotive &amp; Sports</td>\n",
       "    </tr>\n",
       "    <tr>\n",
       "      <th>21</th>\n",
       "      <td>unmanned air systems</td>\n",
       "      <td>Automotive &amp; Sports</td>\n",
       "    </tr>\n",
       "    <tr>\n",
       "      <th>22</th>\n",
       "      <td>air pollution control</td>\n",
       "      <td>Cleantech / Semiconductors</td>\n",
       "    </tr>\n",
       "    <tr>\n",
       "      <th>23</th>\n",
       "      <td>aquaculture</td>\n",
       "      <td>Cleantech / Semiconductors</td>\n",
       "    </tr>\n",
       "    <tr>\n",
       "      <th>27</th>\n",
       "      <td>biomass power generation</td>\n",
       "      <td>Cleantech / Semiconductors</td>\n",
       "    </tr>\n",
       "    <tr>\n",
       "      <th>...</th>\n",
       "      <td>...</td>\n",
       "      <td>...</td>\n",
       "    </tr>\n",
       "    <tr>\n",
       "      <th>681</th>\n",
       "      <td>social news</td>\n",
       "      <td>Social, Finance, Analytics, Advertising</td>\n",
       "    </tr>\n",
       "    <tr>\n",
       "      <th>682</th>\n",
       "      <td>social recruiting</td>\n",
       "      <td>Social, Finance, Analytics, Advertising</td>\n",
       "    </tr>\n",
       "    <tr>\n",
       "      <th>683</th>\n",
       "      <td>social television</td>\n",
       "      <td>Social, Finance, Analytics, Advertising</td>\n",
       "    </tr>\n",
       "    <tr>\n",
       "      <th>684</th>\n",
       "      <td>social travel</td>\n",
       "      <td>Social, Finance, Analytics, Advertising</td>\n",
       "    </tr>\n",
       "    <tr>\n",
       "      <th>685</th>\n",
       "      <td>stock exchanges</td>\n",
       "      <td>Social, Finance, Analytics, Advertising</td>\n",
       "    </tr>\n",
       "  </tbody>\n",
       "</table>\n",
       "<p>133 rows × 2 columns</p>\n",
       "</div>"
      ],
      "text/plain": [
       "                category_list                              main_sector\n",
       "6            boating industry                      Automotive & Sports\n",
       "21       unmanned air systems                      Automotive & Sports\n",
       "22      air pollution control               Cleantech / Semiconductors\n",
       "23                aquaculture               Cleantech / Semiconductors\n",
       "27   biomass power generation               Cleantech / Semiconductors\n",
       "..                        ...                                      ...\n",
       "681               social news  Social, Finance, Analytics, Advertising\n",
       "682         social recruiting  Social, Finance, Analytics, Advertising\n",
       "683         social television  Social, Finance, Analytics, Advertising\n",
       "684             social travel  Social, Finance, Analytics, Advertising\n",
       "685           stock exchanges  Social, Finance, Analytics, Advertising\n",
       "\n",
       "[133 rows x 2 columns]"
      ]
     },
     "execution_count": 57,
     "metadata": {},
     "output_type": "execute_result"
    }
   ],
   "source": [
    "mapping[~mapping['category_list'].isin(top3['primary_sector'])]"
   ]
  },
  {
   "cell_type": "code",
   "execution_count": 58,
   "id": "5755ff01",
   "metadata": {},
   "outputs": [
    {
     "data": {
      "text/plain": [
       "133"
      ]
     },
     "execution_count": 58,
     "metadata": {},
     "output_type": "execute_result"
    }
   ],
   "source": [
    "len(mapping[~mapping['category_list'].isin(top3['primary_sector'])])"
   ]
  },
  {
   "cell_type": "markdown",
   "id": "bc7cfdb9",
   "metadata": {},
   "source": [
    "The value of categories present in mapping dataframes category_list which are not present in top3 dataframes primary_sector have gone down from __175__ to __133__."
   ]
  },
  {
   "cell_type": "markdown",
   "id": "e1370571",
   "metadata": {},
   "source": [
    "- Using `category_list` and `primary_sector` as the keys for merging"
   ]
  },
  {
   "cell_type": "code",
   "execution_count": 59,
   "id": "32a451d6",
   "metadata": {},
   "outputs": [
    {
     "data": {
      "text/html": [
       "<div>\n",
       "<style scoped>\n",
       "    .dataframe tbody tr th:only-of-type {\n",
       "        vertical-align: middle;\n",
       "    }\n",
       "\n",
       "    .dataframe tbody tr th {\n",
       "        vertical-align: top;\n",
       "    }\n",
       "\n",
       "    .dataframe thead th {\n",
       "        text-align: right;\n",
       "    }\n",
       "</style>\n",
       "<table border=\"1\" class=\"dataframe\">\n",
       "  <thead>\n",
       "    <tr style=\"text-align: right;\">\n",
       "      <th></th>\n",
       "      <th>permalink</th>\n",
       "      <th>country_code</th>\n",
       "      <th>funding_round_type</th>\n",
       "      <th>raised_amount_usd</th>\n",
       "      <th>primary_sector</th>\n",
       "      <th>main_sector</th>\n",
       "    </tr>\n",
       "  </thead>\n",
       "  <tbody>\n",
       "    <tr>\n",
       "      <th>0</th>\n",
       "      <td>/organization/-fame</td>\n",
       "      <td>IND</td>\n",
       "      <td>venture</td>\n",
       "      <td>10000000.00</td>\n",
       "      <td>media</td>\n",
       "      <td>Entertainment</td>\n",
       "    </tr>\n",
       "    <tr>\n",
       "      <th>1</th>\n",
       "      <td>/organization/90min</td>\n",
       "      <td>GBR</td>\n",
       "      <td>venture</td>\n",
       "      <td>15000000.00</td>\n",
       "      <td>media</td>\n",
       "      <td>Entertainment</td>\n",
       "    </tr>\n",
       "    <tr>\n",
       "      <th>2</th>\n",
       "      <td>/organization/90min</td>\n",
       "      <td>GBR</td>\n",
       "      <td>venture</td>\n",
       "      <td>5800000.00</td>\n",
       "      <td>media</td>\n",
       "      <td>Entertainment</td>\n",
       "    </tr>\n",
       "    <tr>\n",
       "      <th>3</th>\n",
       "      <td>/organization/90min</td>\n",
       "      <td>GBR</td>\n",
       "      <td>venture</td>\n",
       "      <td>18000000.00</td>\n",
       "      <td>media</td>\n",
       "      <td>Entertainment</td>\n",
       "    </tr>\n",
       "    <tr>\n",
       "      <th>4</th>\n",
       "      <td>/organization/all-def-digital</td>\n",
       "      <td>USA</td>\n",
       "      <td>venture</td>\n",
       "      <td>5000000.00</td>\n",
       "      <td>media</td>\n",
       "      <td>Entertainment</td>\n",
       "    </tr>\n",
       "  </tbody>\n",
       "</table>\n",
       "</div>"
      ],
      "text/plain": [
       "                       permalink country_code funding_round_type  \\\n",
       "0            /organization/-fame          IND            venture   \n",
       "1            /organization/90min          GBR            venture   \n",
       "2            /organization/90min          GBR            venture   \n",
       "3            /organization/90min          GBR            venture   \n",
       "4  /organization/all-def-digital          USA            venture   \n",
       "\n",
       "   raised_amount_usd primary_sector    main_sector  \n",
       "0        10000000.00          media  Entertainment  \n",
       "1        15000000.00          media  Entertainment  \n",
       "2         5800000.00          media  Entertainment  \n",
       "3        18000000.00          media  Entertainment  \n",
       "4         5000000.00          media  Entertainment  "
      ]
     },
     "execution_count": 59,
     "metadata": {},
     "output_type": "execute_result"
    }
   ],
   "source": [
    "sector_analysis = pd.merge(top3, mapping, how='inner', left_on='primary_sector', right_on='category_list')\n",
    "\n",
    "# Dropping the category_list column as it is redundant\n",
    "sector_analysis = sector_analysis.drop(['category_list'], axis=1)\n",
    "\n",
    "# Viewing the first 5 records of the sector analysis dataframe\n",
    "sector_analysis.head()"
   ]
  },
  {
   "cell_type": "markdown",
   "id": "4d1114ca",
   "metadata": {},
   "source": [
    "# Checkpoint 5: Sector Analysis 2"
   ]
  },
  {
   "cell_type": "markdown",
   "id": "94e51176",
   "metadata": {},
   "source": [
    "#### Creating 3 seperate dataframes D1, D2 and D3 for:\n",
    "- Each of the 3 countries ('USA', 'GBR', 'IND)\n",
    "- Funding type is venture\n",
    "- Funding investment range is between 5 to 15 Million USD"
   ]
  },
  {
   "cell_type": "code",
   "execution_count": 60,
   "id": "21fc8bd0",
   "metadata": {},
   "outputs": [
    {
     "data": {
      "text/html": [
       "<div>\n",
       "<style scoped>\n",
       "    .dataframe tbody tr th:only-of-type {\n",
       "        vertical-align: middle;\n",
       "    }\n",
       "\n",
       "    .dataframe tbody tr th {\n",
       "        vertical-align: top;\n",
       "    }\n",
       "\n",
       "    .dataframe thead th {\n",
       "        text-align: right;\n",
       "    }\n",
       "</style>\n",
       "<table border=\"1\" class=\"dataframe\">\n",
       "  <thead>\n",
       "    <tr style=\"text-align: right;\">\n",
       "      <th></th>\n",
       "      <th>permalink</th>\n",
       "      <th>country_code</th>\n",
       "      <th>funding_round_type</th>\n",
       "      <th>raised_amount_usd</th>\n",
       "      <th>primary_sector</th>\n",
       "      <th>main_sector</th>\n",
       "    </tr>\n",
       "  </thead>\n",
       "  <tbody>\n",
       "    <tr>\n",
       "      <th>0</th>\n",
       "      <td>/organization/all-def-digital</td>\n",
       "      <td>USA</td>\n",
       "      <td>venture</td>\n",
       "      <td>5000000.00</td>\n",
       "      <td>media</td>\n",
       "      <td>Entertainment</td>\n",
       "    </tr>\n",
       "    <tr>\n",
       "      <th>1</th>\n",
       "      <td>/organization/chefs-feed</td>\n",
       "      <td>USA</td>\n",
       "      <td>venture</td>\n",
       "      <td>5000000.00</td>\n",
       "      <td>media</td>\n",
       "      <td>Entertainment</td>\n",
       "    </tr>\n",
       "    <tr>\n",
       "      <th>2</th>\n",
       "      <td>/organization/huffingtonpost</td>\n",
       "      <td>USA</td>\n",
       "      <td>venture</td>\n",
       "      <td>5000000.00</td>\n",
       "      <td>media</td>\n",
       "      <td>Entertainment</td>\n",
       "    </tr>\n",
       "    <tr>\n",
       "      <th>3</th>\n",
       "      <td>/organization/huffingtonpost</td>\n",
       "      <td>USA</td>\n",
       "      <td>venture</td>\n",
       "      <td>5000000.00</td>\n",
       "      <td>media</td>\n",
       "      <td>Entertainment</td>\n",
       "    </tr>\n",
       "    <tr>\n",
       "      <th>4</th>\n",
       "      <td>/organization/matchmine</td>\n",
       "      <td>USA</td>\n",
       "      <td>venture</td>\n",
       "      <td>10000000.00</td>\n",
       "      <td>media</td>\n",
       "      <td>Entertainment</td>\n",
       "    </tr>\n",
       "  </tbody>\n",
       "</table>\n",
       "</div>"
      ],
      "text/plain": [
       "                       permalink country_code funding_round_type  \\\n",
       "0  /organization/all-def-digital          USA            venture   \n",
       "1       /organization/chefs-feed          USA            venture   \n",
       "2   /organization/huffingtonpost          USA            venture   \n",
       "3   /organization/huffingtonpost          USA            venture   \n",
       "4        /organization/matchmine          USA            venture   \n",
       "\n",
       "   raised_amount_usd primary_sector    main_sector  \n",
       "0         5000000.00          media  Entertainment  \n",
       "1         5000000.00          media  Entertainment  \n",
       "2         5000000.00          media  Entertainment  \n",
       "3         5000000.00          media  Entertainment  \n",
       "4        10000000.00          media  Entertainment  "
      ]
     },
     "execution_count": 60,
     "metadata": {},
     "output_type": "execute_result"
    }
   ],
   "source": [
    "# Creating dataframe D1 for the country 'USA'\n",
    "D1 = sector_analysis[(sector_analysis['country_code'] == 'USA') &\n",
    "                     (sector_analysis['raised_amount_usd'] >= 5000000) &\n",
    "                     (sector_analysis['raised_amount_usd'] <= 15000000)]\n",
    "\n",
    "# Viewing the first 5 records in the D1 dataframe\n",
    "D1.reset_index(drop=True, inplace=True)\n",
    "D1.head()"
   ]
  },
  {
   "cell_type": "code",
   "execution_count": 61,
   "id": "b8a74819",
   "metadata": {},
   "outputs": [
    {
     "data": {
      "text/html": [
       "<div>\n",
       "<style scoped>\n",
       "    .dataframe tbody tr th:only-of-type {\n",
       "        vertical-align: middle;\n",
       "    }\n",
       "\n",
       "    .dataframe tbody tr th {\n",
       "        vertical-align: top;\n",
       "    }\n",
       "\n",
       "    .dataframe thead th {\n",
       "        text-align: right;\n",
       "    }\n",
       "</style>\n",
       "<table border=\"1\" class=\"dataframe\">\n",
       "  <thead>\n",
       "    <tr style=\"text-align: right;\">\n",
       "      <th></th>\n",
       "      <th>permalink</th>\n",
       "      <th>country_code</th>\n",
       "      <th>funding_round_type</th>\n",
       "      <th>raised_amount_usd</th>\n",
       "      <th>primary_sector</th>\n",
       "      <th>main_sector</th>\n",
       "    </tr>\n",
       "  </thead>\n",
       "  <tbody>\n",
       "    <tr>\n",
       "      <th>0</th>\n",
       "      <td>/organization/90min</td>\n",
       "      <td>GBR</td>\n",
       "      <td>venture</td>\n",
       "      <td>15000000.00</td>\n",
       "      <td>media</td>\n",
       "      <td>Entertainment</td>\n",
       "    </tr>\n",
       "    <tr>\n",
       "      <th>1</th>\n",
       "      <td>/organization/90min</td>\n",
       "      <td>GBR</td>\n",
       "      <td>venture</td>\n",
       "      <td>5800000.00</td>\n",
       "      <td>media</td>\n",
       "      <td>Entertainment</td>\n",
       "    </tr>\n",
       "    <tr>\n",
       "      <th>2</th>\n",
       "      <td>/organization/aihit</td>\n",
       "      <td>GBR</td>\n",
       "      <td>venture</td>\n",
       "      <td>5500000.00</td>\n",
       "      <td>analytics</td>\n",
       "      <td>Social, Finance, Analytics, Advertising</td>\n",
       "    </tr>\n",
       "    <tr>\n",
       "      <th>3</th>\n",
       "      <td>/organization/brandwatch</td>\n",
       "      <td>GBR</td>\n",
       "      <td>venture</td>\n",
       "      <td>6000000.00</td>\n",
       "      <td>analytics</td>\n",
       "      <td>Social, Finance, Analytics, Advertising</td>\n",
       "    </tr>\n",
       "    <tr>\n",
       "      <th>4</th>\n",
       "      <td>/organization/digital-shadows</td>\n",
       "      <td>GBR</td>\n",
       "      <td>venture</td>\n",
       "      <td>8000000.00</td>\n",
       "      <td>analytics</td>\n",
       "      <td>Social, Finance, Analytics, Advertising</td>\n",
       "    </tr>\n",
       "  </tbody>\n",
       "</table>\n",
       "</div>"
      ],
      "text/plain": [
       "                       permalink country_code funding_round_type  \\\n",
       "0            /organization/90min          GBR            venture   \n",
       "1            /organization/90min          GBR            venture   \n",
       "2            /organization/aihit          GBR            venture   \n",
       "3       /organization/brandwatch          GBR            venture   \n",
       "4  /organization/digital-shadows          GBR            venture   \n",
       "\n",
       "   raised_amount_usd primary_sector                              main_sector  \n",
       "0        15000000.00          media                            Entertainment  \n",
       "1         5800000.00          media                            Entertainment  \n",
       "2         5500000.00      analytics  Social, Finance, Analytics, Advertising  \n",
       "3         6000000.00      analytics  Social, Finance, Analytics, Advertising  \n",
       "4         8000000.00      analytics  Social, Finance, Analytics, Advertising  "
      ]
     },
     "execution_count": 61,
     "metadata": {},
     "output_type": "execute_result"
    }
   ],
   "source": [
    "# Creating dataframe D2 for the country 'GBR'\n",
    "D2 = sector_analysis[(sector_analysis['country_code'] == 'GBR') &\n",
    "                     (sector_analysis['raised_amount_usd'] >= 5000000) &\n",
    "                     (sector_analysis['raised_amount_usd'] <= 15000000)]\n",
    "\n",
    "# Viewing the first 5 records in the D2 dataframe\n",
    "D2.reset_index(drop=True, inplace=True)\n",
    "D2.head()"
   ]
  },
  {
   "cell_type": "code",
   "execution_count": 62,
   "id": "acd5a6c3",
   "metadata": {},
   "outputs": [
    {
     "data": {
      "text/html": [
       "<div>\n",
       "<style scoped>\n",
       "    .dataframe tbody tr th:only-of-type {\n",
       "        vertical-align: middle;\n",
       "    }\n",
       "\n",
       "    .dataframe tbody tr th {\n",
       "        vertical-align: top;\n",
       "    }\n",
       "\n",
       "    .dataframe thead th {\n",
       "        text-align: right;\n",
       "    }\n",
       "</style>\n",
       "<table border=\"1\" class=\"dataframe\">\n",
       "  <thead>\n",
       "    <tr style=\"text-align: right;\">\n",
       "      <th></th>\n",
       "      <th>permalink</th>\n",
       "      <th>country_code</th>\n",
       "      <th>funding_round_type</th>\n",
       "      <th>raised_amount_usd</th>\n",
       "      <th>primary_sector</th>\n",
       "      <th>main_sector</th>\n",
       "    </tr>\n",
       "  </thead>\n",
       "  <tbody>\n",
       "    <tr>\n",
       "      <th>0</th>\n",
       "      <td>/organization/-fame</td>\n",
       "      <td>IND</td>\n",
       "      <td>venture</td>\n",
       "      <td>10000000.00</td>\n",
       "      <td>media</td>\n",
       "      <td>Entertainment</td>\n",
       "    </tr>\n",
       "    <tr>\n",
       "      <th>1</th>\n",
       "      <td>/organization/eka-software-solutions</td>\n",
       "      <td>IND</td>\n",
       "      <td>venture</td>\n",
       "      <td>6000000.00</td>\n",
       "      <td>analytics</td>\n",
       "      <td>Social, Finance, Analytics, Advertising</td>\n",
       "    </tr>\n",
       "    <tr>\n",
       "      <th>2</th>\n",
       "      <td>/organization/eka-software-solutions</td>\n",
       "      <td>IND</td>\n",
       "      <td>venture</td>\n",
       "      <td>10000000.00</td>\n",
       "      <td>analytics</td>\n",
       "      <td>Social, Finance, Analytics, Advertising</td>\n",
       "    </tr>\n",
       "    <tr>\n",
       "      <th>3</th>\n",
       "      <td>/organization/loginext-solutions</td>\n",
       "      <td>IND</td>\n",
       "      <td>venture</td>\n",
       "      <td>10000000.00</td>\n",
       "      <td>analytics</td>\n",
       "      <td>Social, Finance, Analytics, Advertising</td>\n",
       "    </tr>\n",
       "    <tr>\n",
       "      <th>4</th>\n",
       "      <td>/organization/manthan-systems</td>\n",
       "      <td>IND</td>\n",
       "      <td>venture</td>\n",
       "      <td>5700000.00</td>\n",
       "      <td>analytics</td>\n",
       "      <td>Social, Finance, Analytics, Advertising</td>\n",
       "    </tr>\n",
       "  </tbody>\n",
       "</table>\n",
       "</div>"
      ],
      "text/plain": [
       "                              permalink country_code funding_round_type  \\\n",
       "0                   /organization/-fame          IND            venture   \n",
       "1  /organization/eka-software-solutions          IND            venture   \n",
       "2  /organization/eka-software-solutions          IND            venture   \n",
       "3      /organization/loginext-solutions          IND            venture   \n",
       "4         /organization/manthan-systems          IND            venture   \n",
       "\n",
       "   raised_amount_usd primary_sector                              main_sector  \n",
       "0        10000000.00          media                            Entertainment  \n",
       "1         6000000.00      analytics  Social, Finance, Analytics, Advertising  \n",
       "2        10000000.00      analytics  Social, Finance, Analytics, Advertising  \n",
       "3        10000000.00      analytics  Social, Finance, Analytics, Advertising  \n",
       "4         5700000.00      analytics  Social, Finance, Analytics, Advertising  "
      ]
     },
     "execution_count": 62,
     "metadata": {},
     "output_type": "execute_result"
    }
   ],
   "source": [
    "# Creating dataframe D3 for the country 'IND'\n",
    "D3 = sector_analysis[(sector_analysis['country_code'] == 'IND') &\n",
    "                     (sector_analysis['raised_amount_usd'] >= 5000000) &\n",
    "                     (sector_analysis['raised_amount_usd'] <= 15000000)]\n",
    "\n",
    "# Viewing the first 5 records in the D3 dataframe\n",
    "D3.reset_index(drop=True, inplace=True)\n",
    "D3.head()"
   ]
  },
  {
   "cell_type": "markdown",
   "id": "df2a56f6",
   "metadata": {},
   "source": [
    "#### For dataframe D1"
   ]
  },
  {
   "cell_type": "code",
   "execution_count": 63,
   "id": "26e67538",
   "metadata": {},
   "outputs": [
    {
     "name": "stdout",
     "output_type": "stream",
     "text": [
      "Total number of investments in USA: 12063\n",
      "Total amount of investment in USA: 107757097294.0\n"
     ]
    }
   ],
   "source": [
    "# Total number of investments in D1\n",
    "print(f\"Total number of investments in USA: {D1['raised_amount_usd'].count()}\")\n",
    "\n",
    "# Total amount of investments in D1\n",
    "print(f\"Total amount of investment in USA: {D1['raised_amount_usd'].sum()}\")"
   ]
  },
  {
   "cell_type": "code",
   "execution_count": 64,
   "id": "23c5d394",
   "metadata": {},
   "outputs": [
    {
     "data": {
      "text/plain": [
       "Others                                     2950\n",
       "Social, Finance, Analytics, Advertising    2714\n",
       "Cleantech / Semiconductors                 2350\n",
       "News, Search and Messaging                 1583\n",
       "Health                                      909\n",
       "Manufacturing                               799\n",
       "Entertainment                               591\n",
       "Automotive & Sports                         167\n",
       "Name: main_sector, dtype: int64"
      ]
     },
     "execution_count": 64,
     "metadata": {},
     "output_type": "execute_result"
    }
   ],
   "source": [
    "# Total number of investments in each main sector in D1\n",
    "D1['main_sector'].value_counts().sort_values(ascending=False)"
   ]
  },
  {
   "cell_type": "markdown",
   "id": "8f15436d",
   "metadata": {},
   "source": [
    "#### For dataframe D2"
   ]
  },
  {
   "cell_type": "code",
   "execution_count": 65,
   "id": "fc8cf705",
   "metadata": {},
   "outputs": [
    {
     "name": "stdout",
     "output_type": "stream",
     "text": [
      "Total number of investments in GBR: 621\n",
      "Total amount of investment in GBR: 5379078691.0\n"
     ]
    }
   ],
   "source": [
    "# Total number of investments in D2\n",
    "print(f\"Total number of investments in GBR: {D2['raised_amount_usd'].count()}\")\n",
    "\n",
    "# Total amount of investments in D2\n",
    "print(f\"Total amount of investment in GBR: {D2['raised_amount_usd'].sum()}\")"
   ]
  },
  {
   "cell_type": "code",
   "execution_count": 66,
   "id": "30a1ed3d",
   "metadata": {},
   "outputs": [
    {
     "data": {
      "text/plain": [
       "Others                                     147\n",
       "Social, Finance, Analytics, Advertising    133\n",
       "Cleantech / Semiconductors                 130\n",
       "News, Search and Messaging                  73\n",
       "Entertainment                               56\n",
       "Manufacturing                               42\n",
       "Health                                      24\n",
       "Automotive & Sports                         16\n",
       "Name: main_sector, dtype: int64"
      ]
     },
     "execution_count": 66,
     "metadata": {},
     "output_type": "execute_result"
    }
   ],
   "source": [
    "# Total number of investments in each main sector in D2\n",
    "D2['main_sector'].value_counts().sort_values(ascending=False)"
   ]
  },
  {
   "cell_type": "markdown",
   "id": "edb42cf7",
   "metadata": {},
   "source": [
    "#### For dataframe D3"
   ]
  },
  {
   "cell_type": "code",
   "execution_count": 67,
   "id": "ec613aba",
   "metadata": {},
   "outputs": [
    {
     "name": "stdout",
     "output_type": "stream",
     "text": [
      "Total number of investments in IND: 328\n",
      "Total amount of investment in IND: 2949543602.0\n"
     ]
    }
   ],
   "source": [
    "# Total number of investments in D3\n",
    "print(f\"Total number of investments in IND: {D3['raised_amount_usd'].count()}\")\n",
    "\n",
    "# Total amount of investment in D3\n",
    "print(f\"Total amount of investment in IND: {D3['raised_amount_usd'].sum()}\")"
   ]
  },
  {
   "cell_type": "code",
   "execution_count": 68,
   "id": "eca53659",
   "metadata": {},
   "outputs": [
    {
     "data": {
      "text/plain": [
       "Others                                     110\n",
       "Social, Finance, Analytics, Advertising     60\n",
       "News, Search and Messaging                  52\n",
       "Entertainment                               33\n",
       "Manufacturing                               21\n",
       "Cleantech / Semiconductors                  20\n",
       "Health                                      19\n",
       "Automotive & Sports                         13\n",
       "Name: main_sector, dtype: int64"
      ]
     },
     "execution_count": 68,
     "metadata": {},
     "output_type": "execute_result"
    }
   ],
   "source": [
    "# Total number of investments in each main sector in D3\n",
    "D3['main_sector'].value_counts().sort_values(ascending=False)"
   ]
  },
  {
   "cell_type": "markdown",
   "id": "41ee5d38",
   "metadata": {},
   "source": [
    "#### Top sector (count wise), company that recieved the highest investment"
   ]
  },
  {
   "cell_type": "code",
   "execution_count": 69,
   "id": "263d1dc8",
   "metadata": {},
   "outputs": [
    {
     "data": {
      "text/plain": [
       "permalink\n",
       "/organization/virtustream   64300000.00\n",
       "/organization/capella       54968051.00\n",
       "Name: raised_amount_usd, dtype: float64"
      ]
     },
     "execution_count": 69,
     "metadata": {},
     "output_type": "execute_result"
    }
   ],
   "source": [
    "# For dataframe D1\n",
    "D1[D1['main_sector'] == 'Others'].groupby('permalink')['raised_amount_usd'].sum().sort_values(ascending=False).head(2)"
   ]
  },
  {
   "cell_type": "code",
   "execution_count": 70,
   "id": "d0fbf665",
   "metadata": {},
   "outputs": [
    {
     "data": {
      "text/plain": [
       "permalink\n",
       "/organization/electric-cloud   37000000.00\n",
       "/organization/sensage          36250000.00\n",
       "Name: raised_amount_usd, dtype: float64"
      ]
     },
     "execution_count": 70,
     "metadata": {},
     "output_type": "execute_result"
    }
   ],
   "source": [
    "# For dataframe D2\n",
    "D2[D2['main_sector'] == 'Others'].groupby('permalink')['raised_amount_usd'].sum().sort_values(ascending=False).head(2)"
   ]
  },
  {
   "cell_type": "code",
   "execution_count": 71,
   "id": "8dc95ad0",
   "metadata": {},
   "outputs": [
    {
     "data": {
      "text/plain": [
       "permalink\n",
       "/organization/firstcry-com   39000000.00\n",
       "/organization/myntra         38000000.00\n",
       "Name: raised_amount_usd, dtype: float64"
      ]
     },
     "execution_count": 71,
     "metadata": {},
     "output_type": "execute_result"
    }
   ],
   "source": [
    "# For dataframe D3\n",
    "D3[D3['main_sector'] == 'Others'].groupby('permalink')['raised_amount_usd'].sum().sort_values(ascending=False).head(2)"
   ]
  },
  {
   "cell_type": "markdown",
   "id": "4b196882",
   "metadata": {},
   "source": [
    "#### Second best sector (count wise) company that recieved the highest invetment"
   ]
  },
  {
   "cell_type": "code",
   "execution_count": 72,
   "id": "cb51fa69",
   "metadata": {},
   "outputs": [
    {
     "data": {
      "text/plain": [
       "permalink\n",
       "/organization/shotspotter   67933006.00\n",
       "/organization/demandbase    63000000.00\n",
       "Name: raised_amount_usd, dtype: float64"
      ]
     },
     "execution_count": 72,
     "metadata": {},
     "output_type": "execute_result"
    }
   ],
   "source": [
    "# For dataframe D1\n",
    "D1[D1['main_sector'] == 'Social, Finance, Analytics, Advertising'].groupby('permalink')['raised_amount_usd'].sum().sort_values(ascending=False).head(2)"
   ]
  },
  {
   "cell_type": "code",
   "execution_count": 73,
   "id": "cfae176c",
   "metadata": {},
   "outputs": [
    {
     "data": {
      "text/plain": [
       "permalink\n",
       "/organization/celltick-technologies   37500000.00\n",
       "/organization/mythings                34000000.00\n",
       "Name: raised_amount_usd, dtype: float64"
      ]
     },
     "execution_count": 73,
     "metadata": {},
     "output_type": "execute_result"
    }
   ],
   "source": [
    "# For dataframe D2\n",
    "D2[D2['main_sector'] == 'Social, Finance, Analytics, Advertising'].groupby('permalink')['raised_amount_usd'].sum().sort_values(ascending=False).head(2)"
   ]
  },
  {
   "cell_type": "code",
   "execution_count": 74,
   "id": "60c91735",
   "metadata": {},
   "outputs": [
    {
     "data": {
      "text/plain": [
       "permalink\n",
       "/organization/manthan-systems   50700000.00\n",
       "/organization/komli-media       28000000.00\n",
       "Name: raised_amount_usd, dtype: float64"
      ]
     },
     "execution_count": 74,
     "metadata": {},
     "output_type": "execute_result"
    }
   ],
   "source": [
    "# For dataframe D3\n",
    "D3[D3['main_sector'] == 'Social, Finance, Analytics, Advertising'].groupby('permalink')['raised_amount_usd'].sum().sort_values(ascending=False).head(2)"
   ]
  },
  {
   "cell_type": "markdown",
   "id": "607b7ee8",
   "metadata": {},
   "source": [
    "# Checkpoint 6: Plots"
   ]
  },
  {
   "cell_type": "markdown",
   "id": "a34ffe68",
   "metadata": {},
   "source": [
    "- A plot showing the __representative amount of invsetment__ in each funding type"
   ]
  },
  {
   "cell_type": "code",
   "execution_count": 75,
   "id": "faab3b92",
   "metadata": {},
   "outputs": [
    {
     "data": {
      "image/png": "[encoded data removed]",
      "text/plain": [
       "<Figure size 432x288 with 1 Axes>"
      ]
     },
     "metadata": {
      "needs_background": "light"
     },
     "output_type": "display_data"
    }
   ],
   "source": [
    "# Plot 1: Representative amount of investment\n",
    "sns.barplot(x=fund_median['funding_round_type'], y=fund_median['raised_amount_usd'] / 1000000, order=['venture', 'angel', 'seed', 'private_equity'])\n",
    "plt.ylabel('raised_amount_usd (in millions)')\n",
    "plt.xlabel('Average amount of investment')\n",
    "plt.title('Representative amount of investment across funding the types')\n",
    "plt.show()"
   ]
  },
  {
   "cell_type": "markdown",
   "id": "1f683126",
   "metadata": {},
   "source": [
    "- Plot showing the __top 9 countries against total amount of investments__"
   ]
  },
  {
   "cell_type": "code",
   "execution_count": 76,
   "id": "e79a8434",
   "metadata": {},
   "outputs": [
    {
     "data": {
      "image/png": "[encoded data removed]",
      "text/plain": [
       "<Figure size 432x288 with 1 Axes>"
      ]
     },
     "metadata": {
      "needs_background": "light"
     },
     "output_type": "display_data"
    }
   ],
   "source": [
    "# Plot 2: Top 9 countries against total amount of investments\n",
    "sns.barplot(x=top9['country_code'], y=top9['raised_amount_usd'] / 1000000, hue=top9['speak_english'])\n",
    "plt.ylabel('raised_amount_usd (in millions)')\n",
    "plt.xlabel('Total amount of investment for the 9 countries')\n",
    "plt.title('Total amount of investment in the top 9 countries')\n",
    "plt.show()"
   ]
  },
  {
   "cell_type": "markdown",
   "id": "c47c7b76",
   "metadata": {},
   "source": [
    "- A plot showing __number of investments in the top 3 sectors of the top 3 countries__ in a single graph\n",
    "    - Creating a dataframe for each country for ease of plotting"
   ]
  },
  {
   "cell_type": "code",
   "execution_count": 77,
   "id": "70174457",
   "metadata": {},
   "outputs": [
    {
     "data": {
      "text/html": [
       "<div>\n",
       "<style scoped>\n",
       "    .dataframe tbody tr th:only-of-type {\n",
       "        vertical-align: middle;\n",
       "    }\n",
       "\n",
       "    .dataframe tbody tr th {\n",
       "        vertical-align: top;\n",
       "    }\n",
       "\n",
       "    .dataframe thead th {\n",
       "        text-align: right;\n",
       "    }\n",
       "</style>\n",
       "<table border=\"1\" class=\"dataframe\">\n",
       "  <thead>\n",
       "    <tr style=\"text-align: right;\">\n",
       "      <th></th>\n",
       "      <th>main_sector</th>\n",
       "      <th>sector_count</th>\n",
       "      <th>country</th>\n",
       "    </tr>\n",
       "  </thead>\n",
       "  <tbody>\n",
       "    <tr>\n",
       "      <th>0</th>\n",
       "      <td>Others</td>\n",
       "      <td>2950</td>\n",
       "      <td>USA</td>\n",
       "    </tr>\n",
       "    <tr>\n",
       "      <th>1</th>\n",
       "      <td>Social, Finance, Analytics, Advertising</td>\n",
       "      <td>2714</td>\n",
       "      <td>USA</td>\n",
       "    </tr>\n",
       "    <tr>\n",
       "      <th>2</th>\n",
       "      <td>Cleantech / Semiconductors</td>\n",
       "      <td>2350</td>\n",
       "      <td>USA</td>\n",
       "    </tr>\n",
       "  </tbody>\n",
       "</table>\n",
       "</div>"
      ],
      "text/plain": [
       "                               main_sector  sector_count country\n",
       "0                                   Others          2950     USA\n",
       "1  Social, Finance, Analytics, Advertising          2714     USA\n",
       "2               Cleantech / Semiconductors          2350     USA"
      ]
     },
     "execution_count": 77,
     "metadata": {},
     "output_type": "execute_result"
    }
   ],
   "source": [
    "# Creating a dataframe for sector count in USA\n",
    "sector_count_usa = pd.DataFrame(D1.groupby('main_sector')['main_sector'].count().\n",
    "                                rename('sector_count').\n",
    "                                sort_values(ascending=False)).head(3)\n",
    "\n",
    "# Creating a column for the country name\n",
    "sector_count_usa['country'] = 'USA'\n",
    "\n",
    "# Resetting the index and viewing the dataframe\n",
    "sector_count_usa.reset_index(inplace=True)\n",
    "sector_count_usa"
   ]
  },
  {
   "cell_type": "code",
   "execution_count": 78,
   "id": "7573d2b8",
   "metadata": {},
   "outputs": [
    {
     "data": {
      "text/html": [
       "<div>\n",
       "<style scoped>\n",
       "    .dataframe tbody tr th:only-of-type {\n",
       "        vertical-align: middle;\n",
       "    }\n",
       "\n",
       "    .dataframe tbody tr th {\n",
       "        vertical-align: top;\n",
       "    }\n",
       "\n",
       "    .dataframe thead th {\n",
       "        text-align: right;\n",
       "    }\n",
       "</style>\n",
       "<table border=\"1\" class=\"dataframe\">\n",
       "  <thead>\n",
       "    <tr style=\"text-align: right;\">\n",
       "      <th></th>\n",
       "      <th>main_sector</th>\n",
       "      <th>sector_count</th>\n",
       "      <th>country</th>\n",
       "    </tr>\n",
       "  </thead>\n",
       "  <tbody>\n",
       "    <tr>\n",
       "      <th>0</th>\n",
       "      <td>Others</td>\n",
       "      <td>147</td>\n",
       "      <td>GBR</td>\n",
       "    </tr>\n",
       "    <tr>\n",
       "      <th>1</th>\n",
       "      <td>Social, Finance, Analytics, Advertising</td>\n",
       "      <td>133</td>\n",
       "      <td>GBR</td>\n",
       "    </tr>\n",
       "    <tr>\n",
       "      <th>2</th>\n",
       "      <td>Cleantech / Semiconductors</td>\n",
       "      <td>130</td>\n",
       "      <td>GBR</td>\n",
       "    </tr>\n",
       "  </tbody>\n",
       "</table>\n",
       "</div>"
      ],
      "text/plain": [
       "                               main_sector  sector_count country\n",
       "0                                   Others           147     GBR\n",
       "1  Social, Finance, Analytics, Advertising           133     GBR\n",
       "2               Cleantech / Semiconductors           130     GBR"
      ]
     },
     "execution_count": 78,
     "metadata": {},
     "output_type": "execute_result"
    }
   ],
   "source": [
    "# Creating a dataframe for sector count in GBR\n",
    "sector_count_gbr = pd.DataFrame(D2.groupby('main_sector')['main_sector'].count().\n",
    "                                rename('sector_count').\n",
    "                                sort_values(ascending=False)).head(3)\n",
    "\n",
    "# Creating a column for the country name\n",
    "sector_count_gbr['country'] = 'GBR'\n",
    "\n",
    "# Resetting the index and viewing the dataframe\n",
    "sector_count_gbr.reset_index(inplace=True)\n",
    "sector_count_gbr"
   ]
  },
  {
   "cell_type": "code",
   "execution_count": 79,
   "id": "36f7ea1d",
   "metadata": {},
   "outputs": [
    {
     "data": {
      "text/html": [
       "<div>\n",
       "<style scoped>\n",
       "    .dataframe tbody tr th:only-of-type {\n",
       "        vertical-align: middle;\n",
       "    }\n",
       "\n",
       "    .dataframe tbody tr th {\n",
       "        vertical-align: top;\n",
       "    }\n",
       "\n",
       "    .dataframe thead th {\n",
       "        text-align: right;\n",
       "    }\n",
       "</style>\n",
       "<table border=\"1\" class=\"dataframe\">\n",
       "  <thead>\n",
       "    <tr style=\"text-align: right;\">\n",
       "      <th></th>\n",
       "      <th>main_sector</th>\n",
       "      <th>sector_count</th>\n",
       "      <th>country</th>\n",
       "    </tr>\n",
       "  </thead>\n",
       "  <tbody>\n",
       "    <tr>\n",
       "      <th>0</th>\n",
       "      <td>Others</td>\n",
       "      <td>110</td>\n",
       "      <td>IND</td>\n",
       "    </tr>\n",
       "    <tr>\n",
       "      <th>1</th>\n",
       "      <td>Social, Finance, Analytics, Advertising</td>\n",
       "      <td>60</td>\n",
       "      <td>IND</td>\n",
       "    </tr>\n",
       "    <tr>\n",
       "      <th>2</th>\n",
       "      <td>News, Search and Messaging</td>\n",
       "      <td>52</td>\n",
       "      <td>IND</td>\n",
       "    </tr>\n",
       "  </tbody>\n",
       "</table>\n",
       "</div>"
      ],
      "text/plain": [
       "                               main_sector  sector_count country\n",
       "0                                   Others           110     IND\n",
       "1  Social, Finance, Analytics, Advertising            60     IND\n",
       "2               News, Search and Messaging            52     IND"
      ]
     },
     "execution_count": 79,
     "metadata": {},
     "output_type": "execute_result"
    }
   ],
   "source": [
    "# Creating a dataframe for sector count in IND\n",
    "sector_count_ind = pd.DataFrame(D3.groupby('main_sector')['main_sector'].count().\n",
    "                                rename('sector_count').\n",
    "                                sort_values(ascending=False)).head(3)\n",
    "\n",
    "# Creating a column for the country name\n",
    "sector_count_ind['country'] = 'IND'\n",
    "\n",
    "# Resetting the index and viewing the dataframe\n",
    "sector_count_ind.reset_index(inplace=True)\n",
    "sector_count_ind"
   ]
  },
  {
   "cell_type": "code",
   "execution_count": 80,
   "id": "da5fbe43",
   "metadata": {},
   "outputs": [
    {
     "data": {
      "text/html": [
       "<div>\n",
       "<style scoped>\n",
       "    .dataframe tbody tr th:only-of-type {\n",
       "        vertical-align: middle;\n",
       "    }\n",
       "\n",
       "    .dataframe tbody tr th {\n",
       "        vertical-align: top;\n",
       "    }\n",
       "\n",
       "    .dataframe thead th {\n",
       "        text-align: right;\n",
       "    }\n",
       "</style>\n",
       "<table border=\"1\" class=\"dataframe\">\n",
       "  <thead>\n",
       "    <tr style=\"text-align: right;\">\n",
       "      <th></th>\n",
       "      <th>main_sector</th>\n",
       "      <th>sector_count</th>\n",
       "      <th>country</th>\n",
       "    </tr>\n",
       "  </thead>\n",
       "  <tbody>\n",
       "    <tr>\n",
       "      <th>0</th>\n",
       "      <td>Others</td>\n",
       "      <td>2950</td>\n",
       "      <td>USA</td>\n",
       "    </tr>\n",
       "    <tr>\n",
       "      <th>1</th>\n",
       "      <td>Social, Finance, Analytics, Advertising</td>\n",
       "      <td>2714</td>\n",
       "      <td>USA</td>\n",
       "    </tr>\n",
       "    <tr>\n",
       "      <th>2</th>\n",
       "      <td>Cleantech / Semiconductors</td>\n",
       "      <td>2350</td>\n",
       "      <td>USA</td>\n",
       "    </tr>\n",
       "    <tr>\n",
       "      <th>3</th>\n",
       "      <td>Others</td>\n",
       "      <td>147</td>\n",
       "      <td>GBR</td>\n",
       "    </tr>\n",
       "    <tr>\n",
       "      <th>4</th>\n",
       "      <td>Social, Finance, Analytics, Advertising</td>\n",
       "      <td>133</td>\n",
       "      <td>GBR</td>\n",
       "    </tr>\n",
       "    <tr>\n",
       "      <th>5</th>\n",
       "      <td>Cleantech / Semiconductors</td>\n",
       "      <td>130</td>\n",
       "      <td>GBR</td>\n",
       "    </tr>\n",
       "    <tr>\n",
       "      <th>6</th>\n",
       "      <td>Others</td>\n",
       "      <td>110</td>\n",
       "      <td>IND</td>\n",
       "    </tr>\n",
       "    <tr>\n",
       "      <th>7</th>\n",
       "      <td>Social, Finance, Analytics, Advertising</td>\n",
       "      <td>60</td>\n",
       "      <td>IND</td>\n",
       "    </tr>\n",
       "    <tr>\n",
       "      <th>8</th>\n",
       "      <td>News, Search and Messaging</td>\n",
       "      <td>52</td>\n",
       "      <td>IND</td>\n",
       "    </tr>\n",
       "  </tbody>\n",
       "</table>\n",
       "</div>"
      ],
      "text/plain": [
       "                               main_sector  sector_count country\n",
       "0                                   Others          2950     USA\n",
       "1  Social, Finance, Analytics, Advertising          2714     USA\n",
       "2               Cleantech / Semiconductors          2350     USA\n",
       "3                                   Others           147     GBR\n",
       "4  Social, Finance, Analytics, Advertising           133     GBR\n",
       "5               Cleantech / Semiconductors           130     GBR\n",
       "6                                   Others           110     IND\n",
       "7  Social, Finance, Analytics, Advertising            60     IND\n",
       "8               News, Search and Messaging            52     IND"
      ]
     },
     "execution_count": 80,
     "metadata": {},
     "output_type": "execute_result"
    }
   ],
   "source": [
    "# Merging the above 3 dataframe to get a single sector count dataframe for the 3 countries\n",
    "sector_count = pd.merge(\n",
    "                    pd.merge(sector_count_usa, sector_count_gbr, how='outer'),\n",
    "                    sector_count_ind, how='outer')\n",
    "\n",
    "# Viewing the records in the sector_count dataframe\n",
    "sector_count"
   ]
  },
  {
   "cell_type": "code",
   "execution_count": 81,
   "id": "9b721242",
   "metadata": {},
   "outputs": [
    {
     "data": {
      "image/png": "[encoded data removed]",
      "text/plain": [
       "<Figure size 432x288 with 1 Axes>"
      ]
     },
     "metadata": {
      "needs_background": "light"
     },
     "output_type": "display_data"
    }
   ],
   "source": [
    "# Plot 3: Number of investments in the top 3 sectors of the top 3 countries\n",
    "sns.barplot(data=sector_count, x='country', y='sector_count', hue='main_sector')\n",
    "plt.ylabel('Total investment count')\n",
    "plt.xlabel('Top 3 Countries')\n",
    "plt.title('Number of investments in the top 3 sectors of the top 3 countries')\n",
    "plt.show()"
   ]
  },
  {
   "cell_type": "code",
   "execution_count": null,
   "id": "b08222a1",
   "metadata": {},
   "outputs": [],
   "source": []
  }
 ],
 "metadata": {
  "kernelspec": {
   "display_name": "Python 3",
   "language": "python",
   "name": "python3"
  },
  "language_info": {
   "codemirror_mode": {
    "name": "ipython",
    "version": 3
   },
   "file_extension": ".py",
   "mimetype": "text/x-python",
   "name": "python",
   "nbconvert_exporter": "python",
   "pygments_lexer": "ipython3",
   "version": "3.8.10"
  }
 },
 "nbformat": 4,
 "nbformat_minor": 5
}
